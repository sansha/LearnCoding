{
  "nbformat": 4,
  "nbformat_minor": 0,
  "metadata": {
    "colab": {
      "name": "Day 2.ipynb",
      "provenance": [],
      "collapsed_sections": [],
      "authorship_tag": "ABX9TyMBDq6Hdd2tfF7Xz2mVhPsN",
      "include_colab_link": true
    },
    "kernelspec": {
      "name": "python3",
      "display_name": "Python 3"
    }
  },
  "cells": [
    {
      "cell_type": "markdown",
      "metadata": {
        "id": "view-in-github",
        "colab_type": "text"
      },
      "source": [
        "<a href=\"https://colab.research.google.com/github/sansha/LearnCoding/blob/master/Day_3.ipynb\" target=\"_parent\"><img src=\"https://colab.research.google.com/assets/colab-badge.svg\" alt=\"Open In Colab\"/></a>"
      ]
    },
    {
      "cell_type": "code",
      "metadata": {
        "id": "Vg3B8oRAYQ9G",
        "colab_type": "code",
        "colab": {}
      },
      "source": [
        "print(\"Welcome Back!\")"
      ],
      "execution_count": 0,
      "outputs": []
    },
    {
      "cell_type": "markdown",
      "metadata": {
        "id": "E04Gzcu8Kdi8",
        "colab_type": "text"
      },
      "source": [
        "# Day 3\n",
        "\n",
        "all the days can be found on [github](https://www.github.com/sansha/LearnCoding)\n",
        "\n",
        "## Topic: \n",
        "\n",
        "Welcome to Day 3!\n"
      ]
    },
    {
      "cell_type": "markdown",
      "metadata": {
        "id": "FJf23PF-clbt",
        "colab_type": "text"
      },
      "source": [
        "## 1 Make the output more flexible"
      ]
    },
    {
      "cell_type": "markdown",
      "metadata": {
        "id": "Wa0Aeu4ncp55",
        "colab_type": "text"
      },
      "source": [
        "for now, we printed stuff on the console using `print(firstThing, secondThing, etc)`. This adds a whitespace between all the elements. However, sometimes we don't want that. \n",
        "\n",
        "E.g. the output `1 Hello Mom` wasn't actually the `1. Hello Mom` I promised, because it could have only been `1 . Hello Mom`.\n",
        "\n",
        "So, let's introduce a new way to print things (I also learned this only 3 weeks ago, I'm actually not a python expert by the way):"
      ]
    },
    {
      "cell_type": "markdown",
      "metadata": {
        "id": "OScM2wobdeJ2",
        "colab_type": "text"
      },
      "source": [
        "### Formatting a String\n",
        "\n",
        "Texts are called strings in programming, and we want to format those in a nice way. So what we're doing is called string formatting. It works like this:\n"
      ]
    },
    {
      "cell_type": "code",
      "metadata": {
        "id": "xTU9dwKudQUG",
        "colab_type": "code",
        "colab": {}
      },
      "source": [
        "name = \"Simon\"\n",
        "age = 21\n",
        "print(f\"{name} is {age} years old\")"
      ],
      "execution_count": 0,
      "outputs": []
    },
    {
      "cell_type": "markdown",
      "metadata": {
        "id": "M0PAHSXdeB90",
        "colab_type": "text"
      },
      "source": [
        "or to describe it more generally:\n",
        "\n",
        "```\n",
        "f\"normal text {a variable name we want to put into it} some more text {other variable}\"\n",
        "```\n",
        "You can also store this in a new variable and print it afterwards"
      ]
    },
    {
      "cell_type": "code",
      "metadata": {
        "id": "mPgLsoCqeLV8",
        "colab_type": "code",
        "colab": {}
      },
      "source": [
        "age_string = f\"{name} is {age} years old\"\n",
        "print(age_string)"
      ],
      "execution_count": 0,
      "outputs": []
    },
    {
      "cell_type": "markdown",
      "metadata": {
        "id": "OBvaDTJ6eW8l",
        "colab_type": "text"
      },
      "source": [
        "what do you think happens if you add a string to another string? Try it!"
      ]
    },
    {
      "cell_type": "code",
      "metadata": {
        "id": "a1LNxisdee1Y",
        "colab_type": "code",
        "colab": {}
      },
      "source": [
        "description = \"nice dude\"\n",
        "print(f\"{age_string} and is a {description}\")"
      ],
      "execution_count": 0,
      "outputs": []
    },
    {
      "cell_type": "markdown",
      "metadata": {
        "id": "NQfzz_YNhzrS",
        "colab_type": "text"
      },
      "source": [
        "## 2 Math\n"
      ]
    },
    {
      "cell_type": "markdown",
      "metadata": {
        "id": "Lp_3Hc1zetQk",
        "colab_type": "text"
      },
      "source": [
        "\n",
        "Yay, who doesn't love math? We can obviously do all kinds of calculations in python (actually all calculations which are currently possible by mankind, search for turing completeness if you wanna see a proof of that).\n",
        "### 2.1 basic math\n",
        "The cool thing while programming is that you can focus on *what* you wanna calcuate and not on *how* you're actually doing it (for the most part).\n",
        "Let me show you:"
      ]
    },
    {
      "cell_type": "code",
      "metadata": {
        "id": "YI2Ups2mfMqN",
        "colab_type": "code",
        "colab": {}
      },
      "source": [
        "a = 5\n",
        "b = 16\n",
        "sum = a + b\n",
        "product = a * b\n",
        "print(f\"sum: {sum}, product: {product}\")\n",
        "# try division and subtraction!\n"
      ],
      "execution_count": 0,
      "outputs": []
    },
    {
      "cell_type": "markdown",
      "metadata": {
        "id": "j7I27pPVfi3q",
        "colab_type": "text"
      },
      "source": [
        "### 2.2 more complicated math\n",
        "\n",
        "obviously there's also more compliacted math, like the square root or power etc. What happens if we need to calculate that? Do we have to do it ourself? Whenever you think \"that's probably something a lot of people do\", it's pretty likely that it has been made easy. \n",
        "\n",
        "So, while you cant calculate the square root directly, you just need to \"import math\", and you can do it!"
      ]
    },
    {
      "cell_type": "code",
      "metadata": {
        "id": "XKwIu7jwgDpK",
        "colab_type": "code",
        "colab": {}
      },
      "source": [
        "import math # were getting serious now\n",
        "\n",
        "print(f\"root of 16 is {math.sqrt(16)}\")"
      ],
      "execution_count": 0,
      "outputs": []
    },
    {
      "cell_type": "markdown",
      "metadata": {
        "id": "2Xj5TCvygNg9",
        "colab_type": "text"
      },
      "source": [
        "you need to use `math.` to use the things we just imported. You can try using the logarithmic (`math.log()`) or exponential (`math.exp()`) function!\n",
        "\n",
        "Also, did you notice I did not save the result in a variable and put it into our output? I just calculated it right where I wanted to print it. That's possible, too!"
      ]
    },
    {
      "cell_type": "markdown",
      "metadata": {
        "id": "GpunC-GiW9xM",
        "colab_type": "text"
      },
      "source": [
        "## Wrapping up\n",
        "\n",
        "okay, that's it for today! feel free to get curious what else you might be able to do. You could check how you can style the `print` statement? Or maybe you can print all the numbers between 1 and 100 which can be divided by 3?\n",
        "\n"
      ]
    },
    {
      "cell_type": "markdown",
      "metadata": {
        "id": "s5cNdTejbpuy",
        "colab_type": "text"
      },
      "source": [
        "# Solutions"
      ]
    },
    {
      "cell_type": "markdown",
      "metadata": {
        "id": "1UBXZ8ohTOXG",
        "colab_type": "text"
      },
      "source": [
        "### Task 1: Solution"
      ]
    },
    {
      "cell_type": "markdown",
      "metadata": {
        "id": "hEjDOvoyccGU",
        "colab_type": "text"
      },
      "source": [
        "### Task 2: Solution"
      ]
    }
  ]
}