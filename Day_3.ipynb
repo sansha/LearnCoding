{
  "nbformat": 4,
  "nbformat_minor": 0,
  "metadata": {
    "colab": {
      "name": "Day 3.ipynb",
      "provenance": [],
      "collapsed_sections": [],
      "authorship_tag": "ABX9TyNajE4eh2MwXJSZe/XeGlLW",
      "include_colab_link": true
    },
    "kernelspec": {
      "name": "python3",
      "display_name": "Python 3"
    }
  },
  "cells": [
    {
      "cell_type": "markdown",
      "metadata": {
        "id": "view-in-github",
        "colab_type": "text"
      },
      "source": [
        "<a href=\"https://colab.research.google.com/github/sansha/LearnCoding/blob/master/Day_3.ipynb\" target=\"_parent\"><img src=\"https://colab.research.google.com/assets/colab-badge.svg\" alt=\"Open In Colab\"/></a>"
      ]
    },
    {
      "cell_type": "code",
      "metadata": {
        "id": "Vg3B8oRAYQ9G",
        "colab_type": "code",
        "colab": {}
      },
      "source": [
        "print(\"Welcome Back to Day 3!\")"
      ],
      "execution_count": 0,
      "outputs": []
    },
    {
      "cell_type": "markdown",
      "metadata": {
        "id": "E04Gzcu8Kdi8",
        "colab_type": "text"
      },
      "source": [
        "# Day 3\n",
        "\n",
        "all the days can be found on [github](https://www.github.com/sansha/LearnCoding)\n",
        "\n",
        "## Topic: Strings :)\n",
        "\n",
        "Welcome to Day 3! How is it going so far?\n"
      ]
    },
    {
      "cell_type": "markdown",
      "metadata": {
        "id": "FJf23PF-clbt",
        "colab_type": "text"
      },
      "source": [
        "# 1 Make the output more flexible"
      ]
    },
    {
      "cell_type": "markdown",
      "metadata": {
        "id": "Wa0Aeu4ncp55",
        "colab_type": "text"
      },
      "source": [
        "for now, we printed stuff on the console using `print(firstThing, secondThing, etc)`. This adds a whitespace between all the elements. However, sometimes we don't want that. \n",
        "\n",
        "E.g. the output `1 Hello Mom` wasn't actually the `1. Hello Mom` I promised, because it could have only been `1 . Hello Mom`.\n",
        "\n",
        "So, let's introduce a new way to print things (I also learned this only 3 weeks ago, I'm actually not a python expert by the way):"
      ]
    },
    {
      "cell_type": "markdown",
      "metadata": {
        "id": "OScM2wobdeJ2",
        "colab_type": "text"
      },
      "source": [
        "### Formatting a String\n",
        "\n",
        "Texts are called strings in programming, and we want to format those in a nice way. So what we're doing is called string formatting. It works like this:\n"
      ]
    },
    {
      "cell_type": "code",
      "metadata": {
        "id": "xTU9dwKudQUG",
        "colab_type": "code",
        "colab": {}
      },
      "source": [
        "name = \"Simon\"\n",
        "age = 21\n",
        "nicely_formatted = f\"{name} is {age} years old\" # f is the important key here\n",
        "\n",
        "# this website just prints the value of the thing you put on the last line\n",
        "nicely_formatted "
      ],
      "execution_count": 0,
      "outputs": []
    },
    {
      "cell_type": "markdown",
      "metadata": {
        "id": "M0PAHSXdeB90",
        "colab_type": "text"
      },
      "source": [
        "or to describe it more generally:\n",
        "\n",
        "```\n",
        "f\"normal text {a variable name we want to put into it} some more text {other variable}\"\n",
        "```\n",
        "You can also print it directly (you can also `print(nicely_formatted)` with the same result)."
      ]
    },
    {
      "cell_type": "code",
      "metadata": {
        "id": "mPgLsoCqeLV8",
        "colab_type": "code",
        "colab": {}
      },
      "source": [
        "print(f\"{name} is {age} years old\")"
      ],
      "execution_count": 0,
      "outputs": []
    },
    {
      "cell_type": "markdown",
      "metadata": {
        "id": "OBvaDTJ6eW8l",
        "colab_type": "text"
      },
      "source": [
        "what do you think happens if you add a string to another string? Try it!"
      ]
    },
    {
      "cell_type": "code",
      "metadata": {
        "id": "a1LNxisdee1Y",
        "colab_type": "code",
        "colab": {}
      },
      "source": [
        "description = \"nice dude\"\n",
        "print(f\"{nicely_formatted} and is a {description}\")"
      ],
      "execution_count": 0,
      "outputs": []
    },
    {
      "cell_type": "markdown",
      "metadata": {
        "id": "AZQ-vv08RVph",
        "colab_type": "text"
      },
      "source": [
        "what happens if you want to put in a number? Let's try!"
      ]
    },
    {
      "cell_type": "code",
      "metadata": {
        "id": "98k2UmeSRksy",
        "colab_type": "code",
        "colab": {}
      },
      "source": [
        "print(f\"this is a cool number: {5}\")"
      ],
      "execution_count": 0,
      "outputs": []
    },
    {
      "cell_type": "markdown",
      "metadata": {
        "id": "NDg0SqnvRpua",
        "colab_type": "text"
      },
      "source": [
        "it works! What if we store that number in a variable?"
      ]
    },
    {
      "cell_type": "code",
      "metadata": {
        "id": "CTrlHYJrRteG",
        "colab_type": "code",
        "colab": {}
      },
      "source": [
        "number = 5\n",
        "print(f\"this is a cool number: {number}\")"
      ],
      "execution_count": 0,
      "outputs": []
    },
    {
      "cell_type": "markdown",
      "metadata": {
        "id": "LFfboqB4dheL",
        "colab_type": "text"
      },
      "source": [
        "# 2 Theory Part 1\n",
        "\n",
        "today and the following few days will have some more theory on python which is necessary as a baseline to start doing more fun stuff.\n",
        "Let's start by talking a lot more about types in variables. A lot of the following content is copied and adapted from [here](https://gist.github.com/kenjyco/69eeb503125035f21a9d)\n",
        "\n",
        "\n",
        "just so that you've heard all the names, we'll start by the types we have in python."
      ]
    },
    {
      "cell_type": "markdown",
      "metadata": {
        "deletable": true,
        "editable": true,
        "id": "SojQkrN2czxM",
        "colab_type": "text"
      },
      "source": [
        "## Python objects, basic types, and variables\n",
        "\n",
        "Everything in Python is an **object** and every object in Python has a **type**. Some of the basic types include:\n",
        "\n",
        "- **`int`** (integer; a whole number with no decimal place)\n",
        "  - `10`\n",
        "  - `-3`\n",
        "- **`float`** (float; a number that has a decimal place)\n",
        "  - `7.41`\n",
        "  - `-0.006`\n",
        "- **`str`** (string; a sequence of characters enclosed in single quotes, double quotes, or triple quotes)\n",
        "  - `'this is a string using single quotes'`\n",
        "  - `\"this is a string using double quotes\"`\n",
        "  - `'''this is a triple quoted string using single quotes'''`\n",
        "  - `\"\"\"this is a triple quoted string using double quotes\"\"\"`\n",
        "- **`bool`** (boolean; a binary value that is either true or false)\n",
        "  - `True`\n",
        "  - `False`\n",
        "- **`NoneType`** (a special type representing the absence of a value)\n",
        "  - `None`\n",
        "\n",
        "In Python, a **variable** is a name you specify in your code that maps to a particular **object**, object **instance**, or value.\n",
        "\n",
        "By defining variables, we can refer to things by names that make sense to us. Names for variables can only contain letters, underscores (`_`), or numbers (no spaces, dashes, or other characters). Variable names must start with a letter or underscore.\n",
        "\n",
        "<hr>"
      ]
    },
    {
      "cell_type": "markdown",
      "metadata": {
        "id": "L6QZRah0eCfR",
        "colab_type": "text"
      },
      "source": [
        "as you can see, there is a lot more hiding behind the easy"
      ]
    },
    {
      "cell_type": "code",
      "metadata": {
        "id": "oNrrw_wveF6z",
        "colab_type": "code",
        "colab": {}
      },
      "source": [
        "variable = \"some text\"\n",
        "number = 25"
      ],
      "execution_count": 0,
      "outputs": []
    },
    {
      "cell_type": "markdown",
      "metadata": {
        "id": "S4135V49eKRM",
        "colab_type": "text"
      },
      "source": [
        "things we did previously. So when we are doing this:"
      ]
    },
    {
      "cell_type": "code",
      "metadata": {
        "id": "_XUN63olePtF",
        "colab_type": "code",
        "colab": {}
      },
      "source": [
        "variable = 25"
      ],
      "execution_count": 0,
      "outputs": []
    },
    {
      "cell_type": "markdown",
      "metadata": {
        "id": "8XnjFsWFeS-k",
        "colab_type": "text"
      },
      "source": [
        "the variable *changes the type* or more specifically, the thing hiding behind the name is changing a lot.\n",
        "\n",
        "So, what happens if we do this:"
      ]
    },
    {
      "cell_type": "code",
      "metadata": {
        "id": "3kHQlsXseekm",
        "colab_type": "code",
        "colab": {}
      },
      "source": [
        "number = number + 1"
      ],
      "execution_count": 0,
      "outputs": []
    },
    {
      "cell_type": "markdown",
      "metadata": {
        "id": "JlLgSpbOel5N",
        "colab_type": "text"
      },
      "source": [
        "what happens is first the computer will *evaluate* the thing on the right. \n",
        "For that, it will *take a look* at what's *hidden* behind `number`, and will put that there. So, as number is 25 it will lead to `25 + 1` as an intermediate step.\n",
        "After that, it will cacluate `25 + 1` which results in `26` and store that behind the name `number`.\n",
        "\n",
        "So while intuitively it doesn't feel right to say `number = number + 1` doesn't feel right, it actually does something meaningful. So you might think of the `=` more like a `<=` writing that from the right in the thing on the left."
      ]
    },
    {
      "cell_type": "markdown",
      "metadata": {
        "id": "jIt7s6VjehVQ",
        "colab_type": "text"
      },
      "source": [
        "checking if something is equal (which is the intuition behind `a = b` is actually denoted `a == b` in *most* programming languages.\n",
        "\n",
        "Let's check out all the operators which exist:"
      ]
    },
    {
      "cell_type": "markdown",
      "metadata": {
        "deletable": true,
        "editable": true,
        "id": "SBZhjX4uczxO",
        "colab_type": "text"
      },
      "source": [
        "## Basic operators\n",
        "\n",
        "In Python, there are different types of **operators** (special symbols) that operate on different values. Some of the basic operators include:\n",
        "\n",
        "- arithmetic operators\n",
        "  - **`+`** (addition)\n",
        "  - **`-`** (subtraction)\n",
        "  - **`*`** (multiplication)\n",
        "  - **`/`** (division)\n",
        "  - __`**`__ (exponent)\n",
        "- assignment operators\n",
        "  - **`=`** (assign a value)\n",
        "  - **`+=`** (add and re-assign; increment)\n",
        "  - **`-=`** (subtract and re-assign; decrement)\n",
        "  - **`*=`** (multiply and re-assign)\n",
        "- comparison operators (return either `True` or `False`)\n",
        "  - **`==`** (equal to)\n",
        "  - **`!=`** (not equal to)\n",
        "  - **`<`** (less than)\n",
        "  - **`<=`** (less than or equal to)\n",
        "  - **`>`** (greater than)\n",
        "  - **`>=`** (greater than or equal to)\n",
        "\n",
        "When multiple operators are used in a single expression, **operator precedence** determines which parts of the expression are evaluated in which order. Operators with higher precedence are evaluated first (like PEMDAS in math). Operators with the same precedence are evaluated from left to right.\n",
        "\n",
        "- `()` parentheses, for grouping\n",
        "- `**` exponent\n",
        "- `*`, `/` multiplication and division\n",
        "- `+`, `-` addition and subtraction\n",
        "- `==`, `!=`, `<`, `<=`, `>`, `>=` comparisons\n",
        "\n",
        "> See https://docs.python.org/3/reference/expressions.html#operator-precedence"
      ]
    },
    {
      "cell_type": "markdown",
      "metadata": {
        "id": "EuOSAkbMf4nZ",
        "colab_type": "text"
      },
      "source": [
        "### Examples\n",
        "here you will find all kinds of examples"
      ]
    },
    {
      "cell_type": "code",
      "metadata": {
        "deletable": true,
        "editable": true,
        "id": "0V-tM64lczxP",
        "colab_type": "code",
        "colab": {}
      },
      "source": [
        "# Assigning some numbers to different variables\n",
        "num1 = 10\n",
        "num2 = -3\n",
        "num3 = 7.41\n",
        "num4 = -.6\n",
        "num5 = 7\n",
        "num6 = 3\n",
        "num7 = 11.11"
      ],
      "execution_count": 0,
      "outputs": []
    },
    {
      "cell_type": "code",
      "metadata": {
        "deletable": true,
        "editable": true,
        "id": "TYOvW-kSczxZ",
        "colab_type": "code",
        "colab": {}
      },
      "source": [
        "# Addition\n",
        "num1 + num2"
      ],
      "execution_count": 0,
      "outputs": []
    },
    {
      "cell_type": "code",
      "metadata": {
        "deletable": true,
        "editable": true,
        "id": "slmhCiMOczxg",
        "colab_type": "code",
        "colab": {}
      },
      "source": [
        "# Subtraction\n",
        "num2 - num3"
      ],
      "execution_count": 0,
      "outputs": []
    },
    {
      "cell_type": "code",
      "metadata": {
        "deletable": true,
        "editable": true,
        "id": "3L4M8rYhczxm",
        "colab_type": "code",
        "colab": {}
      },
      "source": [
        "# Multiplication\n",
        "num3 * num4"
      ],
      "execution_count": 0,
      "outputs": []
    },
    {
      "cell_type": "code",
      "metadata": {
        "deletable": true,
        "editable": true,
        "id": "f95OMZ2Vczxr",
        "colab_type": "code",
        "colab": {}
      },
      "source": [
        "# Division\n",
        "num4 / num5"
      ],
      "execution_count": 0,
      "outputs": []
    },
    {
      "cell_type": "code",
      "metadata": {
        "deletable": true,
        "editable": true,
        "id": "SwRXzMa7czxy",
        "colab_type": "code",
        "colab": {}
      },
      "source": [
        "# Exponent\n",
        "num5 ** num6"
      ],
      "execution_count": 0,
      "outputs": []
    },
    {
      "cell_type": "code",
      "metadata": {
        "deletable": true,
        "editable": true,
        "id": "aF_9rYGUczx2",
        "colab_type": "code",
        "colab": {}
      },
      "source": [
        "# Increment existing variable\n",
        "num7 += 4\n",
        "num7"
      ],
      "execution_count": 0,
      "outputs": []
    },
    {
      "cell_type": "code",
      "metadata": {
        "deletable": true,
        "editable": true,
        "id": "-A1oc4MMczx7",
        "colab_type": "code",
        "colab": {}
      },
      "source": [
        "# Decrement existing variable\n",
        "num6 -= 2\n",
        "num6"
      ],
      "execution_count": 0,
      "outputs": []
    },
    {
      "cell_type": "code",
      "metadata": {
        "deletable": true,
        "editable": true,
        "id": "CdBSB1IPczyA",
        "colab_type": "code",
        "colab": {}
      },
      "source": [
        "# Multiply & re-assign\n",
        "num3 *= 5\n",
        "num3"
      ],
      "execution_count": 0,
      "outputs": []
    },
    {
      "cell_type": "code",
      "metadata": {
        "deletable": true,
        "editable": true,
        "id": "fQIv5JU1czyG",
        "colab_type": "code",
        "colab": {}
      },
      "source": [
        "# Assign the value of an expression to a variable\n",
        "num8 = num1 + num2 * num3\n",
        "num8"
      ],
      "execution_count": 0,
      "outputs": []
    },
    {
      "cell_type": "markdown",
      "metadata": {
        "id": "hKmozLFAx-s3",
        "colab_type": "text"
      },
      "source": [
        "# Task\n",
        "\n",
        "print the names of each of your friends and their age (Jane is 18, etc).\n",
        "Simultaneously, calculate the sum of all the ages and print it at the end"
      ]
    },
    {
      "cell_type": "code",
      "metadata": {
        "id": "sIm93lC2x-Ia",
        "colab_type": "code",
        "colab": {}
      },
      "source": [
        "friends = [\"Jane\", \"Bob\", \"Alice\"]\n",
        "ages = [18, 19, 20]"
      ],
      "execution_count": 0,
      "outputs": []
    },
    {
      "cell_type": "markdown",
      "metadata": {
        "id": "zra4iY6Hzsjq",
        "colab_type": "text"
      },
      "source": [
        "## Check these other examples out!"
      ]
    },
    {
      "cell_type": "code",
      "metadata": {
        "deletable": true,
        "editable": true,
        "id": "SfVt4eeOczyN",
        "colab_type": "code",
        "colab": {}
      },
      "source": [
        "# Are these two expressions equal to each other?\n",
        "num1 + num2 == num5"
      ],
      "execution_count": 0,
      "outputs": []
    },
    {
      "cell_type": "code",
      "metadata": {
        "deletable": true,
        "editable": true,
        "id": "XGlHHBDKczyR",
        "colab_type": "code",
        "colab": {}
      },
      "source": [
        "# Are these two expressions not equal to each other?\n",
        "num3 != num4"
      ],
      "execution_count": 0,
      "outputs": []
    },
    {
      "cell_type": "code",
      "metadata": {
        "deletable": true,
        "editable": true,
        "id": "bIyZW7lfczyZ",
        "colab_type": "code",
        "colab": {}
      },
      "source": [
        "# Is the first expression less than the second expression?\n",
        "num5 < num6"
      ],
      "execution_count": 0,
      "outputs": []
    },
    {
      "cell_type": "code",
      "metadata": {
        "deletable": true,
        "editable": true,
        "id": "A76pjAs5czyd",
        "colab_type": "code",
        "colab": {}
      },
      "source": [
        "# Is this expression True?\n",
        "5 > 3 > 1"
      ],
      "execution_count": 0,
      "outputs": []
    },
    {
      "cell_type": "code",
      "metadata": {
        "deletable": true,
        "editable": true,
        "id": "4j9Bk9lVczyh",
        "colab_type": "code",
        "colab": {}
      },
      "source": [
        "# Is this expression True?\n",
        "5 > 3 < 4 == 3 + 1"
      ],
      "execution_count": 0,
      "outputs": []
    },
    {
      "cell_type": "code",
      "metadata": {
        "deletable": true,
        "editable": true,
        "id": "Hu02M9TIczyl",
        "colab_type": "code",
        "colab": {}
      },
      "source": [
        "# Assign some strings to different variables\n",
        "simple_string1 = 'an example'\n",
        "simple_string2 = \"oranges \""
      ],
      "execution_count": 0,
      "outputs": []
    },
    {
      "cell_type": "code",
      "metadata": {
        "deletable": true,
        "editable": true,
        "id": "Zx5CGkFAczyq",
        "colab_type": "code",
        "colab": {}
      },
      "source": [
        "# Addition\n",
        "simple_string1 + ' of using the + operator'"
      ],
      "execution_count": 0,
      "outputs": []
    },
    {
      "cell_type": "code",
      "metadata": {
        "deletable": true,
        "editable": true,
        "id": "B_4ndGe0czyt",
        "colab_type": "code",
        "colab": {}
      },
      "source": [
        "# Notice that the string was not modified\n",
        "simple_string1"
      ],
      "execution_count": 0,
      "outputs": []
    },
    {
      "cell_type": "code",
      "metadata": {
        "deletable": true,
        "editable": true,
        "id": "n8E09kwXczyy",
        "colab_type": "code",
        "colab": {}
      },
      "source": [
        "# Multiplication\n",
        "simple_string2 * 4"
      ],
      "execution_count": 0,
      "outputs": []
    },
    {
      "cell_type": "code",
      "metadata": {
        "deletable": true,
        "editable": true,
        "id": "FU1o03uBczy2",
        "colab_type": "code",
        "colab": {}
      },
      "source": [
        "# This string wasn't modified either\n",
        "simple_string2"
      ],
      "execution_count": 0,
      "outputs": []
    },
    {
      "cell_type": "code",
      "metadata": {
        "deletable": true,
        "editable": true,
        "id": "Da1Njkitczy7",
        "colab_type": "code",
        "colab": {}
      },
      "source": [
        "# Are these two expressions equal to each other?\n",
        "simple_string1 == simple_string2"
      ],
      "execution_count": 0,
      "outputs": []
    },
    {
      "cell_type": "code",
      "metadata": {
        "deletable": true,
        "editable": true,
        "id": "x9WPh8zDczzC",
        "colab_type": "code",
        "colab": {}
      },
      "source": [
        "# Are these two expressions equal to each other?\n",
        "simple_string1 == 'an example'"
      ],
      "execution_count": 0,
      "outputs": []
    },
    {
      "cell_type": "code",
      "metadata": {
        "deletable": true,
        "editable": true,
        "id": "hxgcXeEYczzG",
        "colab_type": "code",
        "colab": {}
      },
      "source": [
        "# Add and re-assign\n",
        "simple_string1 += ' that re-assigned the original string'\n",
        "simple_string1"
      ],
      "execution_count": 0,
      "outputs": []
    },
    {
      "cell_type": "code",
      "metadata": {
        "deletable": true,
        "editable": true,
        "id": "VSnpa0xjczzL",
        "colab_type": "code",
        "colab": {}
      },
      "source": [
        "# Multiply and re-assign\n",
        "simple_string2 *= 3\n",
        "simple_string2"
      ],
      "execution_count": 0,
      "outputs": []
    },
    {
      "cell_type": "code",
      "metadata": {
        "deletable": true,
        "editable": true,
        "id": "81jQUnTMczzO",
        "colab_type": "code",
        "colab": {}
      },
      "source": [
        "# Note: Subtraction, division, and decrement operators do not apply to strings."
      ],
      "execution_count": 0,
      "outputs": []
    },
    {
      "cell_type": "markdown",
      "metadata": {
        "id": "s5cNdTejbpuy",
        "colab_type": "text"
      },
      "source": [
        "# Solutions"
      ]
    },
    {
      "cell_type": "code",
      "metadata": {
        "id": "CVbPL4dzzF9_",
        "colab_type": "code",
        "colab": {
          "base_uri": "https://localhost:8080/",
          "height": 86
        },
        "outputId": "cde10127-fcdf-4137-e3c4-f3b038125bde"
      },
      "source": [
        "sum = 0\n",
        "for i in range(len(friends)):\n",
        "  print(f\"{friends[i]} is {ages[i]} years old\")\n",
        "  sum += ages[i]\n",
        "\n",
        "print(\"sum of years:\", sum)"
      ],
      "execution_count": 23,
      "outputs": [
        {
          "output_type": "stream",
          "text": [
            "Jane is 18 years old\n",
            "Bob is 19 years old\n",
            "Alice is 20 years old\n",
            "sum of years: 57\n"
          ],
          "name": "stdout"
        }
      ]
    }
  ]
}