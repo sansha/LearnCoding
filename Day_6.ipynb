{
  "nbformat": 4,
  "nbformat_minor": 0,
  "metadata": {
    "colab": {
      "name": "Day 6.ipynb",
      "provenance": [],
      "private_outputs": true,
      "authorship_tag": "ABX9TyPKSDpb6YrtxfToBzCBMMfT",
      "include_colab_link": true
    },
    "kernelspec": {
      "name": "python3",
      "display_name": "Python 3"
    }
  },
  "cells": [
    {
      "cell_type": "markdown",
      "metadata": {
        "id": "view-in-github",
        "colab_type": "text"
      },
      "source": [
        "<a href=\"https://colab.research.google.com/github/sansha/LearnCoding/blob/master/Day_6.ipynb\" target=\"_parent\"><img src=\"https://colab.research.google.com/assets/colab-badge.svg\" alt=\"Open In Colab\"/></a>"
      ]
    },
    {
      "cell_type": "code",
      "metadata": {
        "id": "DgWX5RZyJnOH",
        "colab_type": "code",
        "colab": {}
      },
      "source": [
        "print(\"Today we'll write a BOT!\")"
      ],
      "execution_count": 0,
      "outputs": []
    },
    {
      "cell_type": "markdown",
      "metadata": {
        "id": "2uYz3fJaJuhO",
        "colab_type": "text"
      },
      "source": [
        "# Day 6\n",
        "\n",
        "## Welcome Back\n",
        "\n",
        "I hope the theoretical parts were not too overwhelming, don't be afraid to go back from time to time to check what's possible in Python. It's very normal to not remember everything. For that, you can always check out the Python reference.\n",
        "Today I'll give some examples on the theory you learned in the past few days\n",
        "\n",
        "## Todays Topic: Deciding stuff\n",
        "\n",
        "this is obviously a very important thing. We already know how to print the numbers from 1 to 10.\n"
      ]
    },
    {
      "cell_type": "code",
      "metadata": {
        "id": "T35eCCepKMrt",
        "colab_type": "code",
        "colab": {}
      },
      "source": [
        "for i in range(10):\n",
        "  print(i)"
      ],
      "execution_count": 0,
      "outputs": []
    },
    {
      "cell_type": "markdown",
      "metadata": {
        "id": "OOlMiOVpKQWi",
        "colab_type": "text"
      },
      "source": [
        "what if we only want to print it if it is a number bigger than 5?"
      ]
    },
    {
      "cell_type": "code",
      "metadata": {
        "id": "fQAmzP4xKXV4",
        "colab_type": "code",
        "colab": {}
      },
      "source": [
        "for i in range(10):\n",
        "  if i > 5:\n",
        "    print(i)"
      ],
      "execution_count": 0,
      "outputs": []
    },
    {
      "cell_type": "markdown",
      "metadata": {
        "id": "8jIw8lq2KcGN",
        "colab_type": "text"
      },
      "source": [
        "so it looks kinda similar to the for loop design, you put `if` and then a condition\n",
        "\n",
        "The comparison operators were also listed on day 3:\n",
        "- comparison operators (return either `True` or `False`)\n",
        "  - **`==`** (equal to)\n",
        "  - **`!=`** (not equal to)\n",
        "  - **`<`** (less than)\n",
        "  - **`<=`** (less than or equal to)\n",
        "  - **`>`** (greater than)\n",
        "  - **`>=`** (greater than or equal to)\n",
        "\n",
        "  another very useful thing is the modulo operator `%` which is equivalent to the remainder (Rest in German) in primary school division.\n",
        "\n",
        "  So e.g. `i % 2` equals 0 as long as it is divisable by 2, that is if the number is even.\n",
        "\n",
        "  ### Task 1\n",
        "  So if you want to print all the numbers between 0 and 15 which are divisible by 3, how would you do it?"
      ]
    },
    {
      "cell_type": "code",
      "metadata": {
        "id": "vhUeX4i5LJJA",
        "colab_type": "code",
        "colab": {}
      },
      "source": [
        "# enter code here"
      ],
      "execution_count": 0,
      "outputs": []
    },
    {
      "cell_type": "markdown",
      "metadata": {
        "id": "0xNLXIRALcy_",
        "colab_type": "text"
      },
      "source": [
        "# Pairs\n",
        "\n",
        "remember how we used to print the name and age of people on day 3?"
      ]
    },
    {
      "cell_type": "code",
      "metadata": {
        "id": "aNRyzBvBLs-B",
        "colab_type": "code",
        "colab": {}
      },
      "source": [
        "sum = 0\n",
        "for i in range(len(friends)):\n",
        "  print(f\"{friends[i]} is {ages[i]} years old\")\n",
        "  sum += ages[i]\n",
        "\n",
        "print(\"sum of years:\", sum)"
      ],
      "execution_count": 0,
      "outputs": []
    },
    {
      "cell_type": "markdown",
      "metadata": {
        "id": "3xaLlyKtL5st",
        "colab_type": "text"
      },
      "source": [
        "actually, it makes more sense to store a pair of `(name, age)` in the list instead of having seperate lists.\n",
        "for that, we use a useful thing in python which works like this"
      ]
    },
    {
      "cell_type": "code",
      "metadata": {
        "id": "C3iJNRoEL5aO",
        "colab_type": "code",
        "colab": {}
      },
      "source": [
        "pair = (\"Peter\", 21)\n",
        "print(pair) # this will print it like (\"Peter\", 21)\n",
        "# now we can \"unwrap\" it like this\n",
        "name, age = pair\n",
        "# the variables have values we expect:\n",
        "print(f\"{name} is {age} years old\")"
      ],
      "execution_count": 0,
      "outputs": []
    },
    {
      "cell_type": "markdown",
      "metadata": {
        "id": "yDX2TgxlMdn0",
        "colab_type": "text"
      },
      "source": [
        "you can also do that in for loops!"
      ]
    },
    {
      "cell_type": "code",
      "metadata": {
        "id": "mlYddyEgMgGr",
        "colab_type": "code",
        "colab": {}
      },
      "source": [
        "data = [(\"Peter\", 21), (\"Simon\", 99), (\"Günther\", 55), (\"Sam\", 25)]\n",
        "\n",
        "for name, age in data:\n",
        "  print(f\"{name} is {age} years old\")"
      ],
      "execution_count": 0,
      "outputs": []
    },
    {
      "cell_type": "markdown",
      "metadata": {
        "id": "wWTMKbIdNARI",
        "colab_type": "text"
      },
      "source": [
        "## Task 2\n",
        "now change the code above to print a message congratulating all people older than 90 :)"
      ]
    },
    {
      "cell_type": "markdown",
      "metadata": {
        "id": "Cw8YU0frO9Rm",
        "colab_type": "text"
      },
      "source": [
        "# Writing a Telegram Bot\n",
        "\n",
        "now let's write our first **REAL** thing! *getting excited*\n",
        "\n",
        "a Telegram bot is what we chose as it is actually surprisingly easy to implement\n",
        "\n",
        "we need a so called library that enables us to communicate to the telegram servers in a simple way. For this tutorial we're using [pyTelegramBotAPI](https://github.com/eternnoir/pyTelegramBotAPI) as it seemed to be the most simple one after a quick (you guessed it) google search.\n",
        "\n",
        "I'm also basically only doing what it is telling us to do on the page linked above.\n",
        "\n",
        "So the first step is to install it:"
      ]
    },
    {
      "cell_type": "code",
      "metadata": {
        "id": "BQznUmuWQxsg",
        "colab_type": "code",
        "colab": {}
      },
      "source": [
        "!pip install pyTelegramBotAPI # installing telegram stuff"
      ],
      "execution_count": 0,
      "outputs": []
    },
    {
      "cell_type": "markdown",
      "metadata": {
        "id": "-e5D3NSsSUei",
        "colab_type": "text"
      },
      "source": [
        "## Registering your Bot\n",
        "\n",
        "1. If you don't have Telegram, get it!\n",
        "2. then, go to the [Telegram bot website](https://core.telegram.org/bots#botfather)\n",
        "  - at 3. How do I create a bot? follow the instructions [there](https://core.telegram.org/bots#6-botfather)\n",
        "  - if you need help finding the BotFather, just use the search function withing telegram ;)\n",
        "  - once you have registered your bot, enter the access token to the code below and start chatting with it (the BotFather will give you instructions where you can do that)\n",
        "\n",
        "> you need to message the bot first, as Bots cannot send the first message in Telegram."
      ]
    },
    {
      "cell_type": "markdown",
      "metadata": {
        "id": "j3aoe4QXR8kU",
        "colab_type": "text"
      },
      "source": [
        "then I just copied whatever they suggested from the website, we'll figure out later what all of that means!\n",
        "\n",
        "> Once you execute it, you will notice it will not be finished at any point. This is because the bot is running and waits for commands. Once this program is stopped, the Bot will stop responding."
      ]
    },
    {
      "cell_type": "markdown",
      "metadata": {
        "id": "gmg4QOWUTLrF",
        "colab_type": "text"
      },
      "source": [
        "### Task 3\n",
        "Register your own bot, add the token in the code below and start chatting.\n",
        "\n",
        "as you might guess, the Bot answers `Howdy, how are you doing?` if you text either start or help, otherwise it will just return whatever you send to it."
      ]
    },
    {
      "cell_type": "code",
      "metadata": {
        "id": "w27MCTOuQ4EG",
        "colab_type": "code",
        "colab": {}
      },
      "source": [
        "import telebot\n",
        "\n",
        "bot = telebot.TeleBot(\"ADD YOUR TOKEN HERE\")\n",
        "\n",
        "@bot.message_handler(commands=['start', 'help'])\n",
        "def send_welcome(message):\n",
        "\tbot.reply_to(message, \"Howdy, how are you doing?\")\n",
        "\n",
        "@bot.message_handler(func=lambda message: True)\n",
        "def echo_all(message):\n",
        "\tbot.reply_to(message, message.text)\n",
        "\n",
        "bot.polling()"
      ],
      "execution_count": 0,
      "outputs": []
    },
    {
      "cell_type": "markdown",
      "metadata": {
        "id": "04SQaPptTfn0",
        "colab_type": "text"
      },
      "source": [
        "Isn't that cool?\n",
        "\n",
        "actually, for this we would not have needed any programming knowledge, however to understand what it does and how to expand it's functionality the things you learned in the previous days will come in handy :)"
      ]
    },
    {
      "cell_type": "markdown",
      "metadata": {
        "id": "O57xAFJVLLFa",
        "colab_type": "text"
      },
      "source": [
        "# Solution"
      ]
    },
    {
      "cell_type": "markdown",
      "metadata": {
        "id": "pJwT_f_lLN-I",
        "colab_type": "text"
      },
      "source": [
        "## Solution 1"
      ]
    },
    {
      "cell_type": "code",
      "metadata": {
        "id": "T-x4WOljLPn6",
        "colab_type": "code",
        "colab": {}
      },
      "source": [
        "for i in range(16):\n",
        "  if i % 3 == 0:\n",
        "    print(i)"
      ],
      "execution_count": 0,
      "outputs": []
    },
    {
      "cell_type": "markdown",
      "metadata": {
        "colab_type": "text",
        "id": "5T54ekoZNTUE"
      },
      "source": [
        "## Solution 2"
      ]
    },
    {
      "cell_type": "code",
      "metadata": {
        "colab_type": "code",
        "id": "RcbIrehONTUK",
        "colab": {}
      },
      "source": [
        "data = [(\"Peter\", 21), (\"Simon\", 99), (\"Günther\", 55), (\"Sam\", 25)]\n",
        "\n",
        "for name, age in data:\n",
        "  print(f\"{name} is {age} years old\")\n",
        "  if age > 90:\n",
        "    print(\"Congratulations for living so long!\")"
      ],
      "execution_count": 0,
      "outputs": []
    }
  ]
}