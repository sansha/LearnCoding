{
  "nbformat": 4,
  "nbformat_minor": 0,
  "metadata": {
    "colab": {
      "name": "Day 2.ipynb",
      "provenance": [],
      "collapsed_sections": [],
      "authorship_tag": "ABX9TyMrJ+FXPpHMDaYpnctb8jsV",
      "include_colab_link": true
    },
    "kernelspec": {
      "name": "python3",
      "display_name": "Python 3"
    }
  },
  "cells": [
    {
      "cell_type": "markdown",
      "metadata": {
        "id": "view-in-github",
        "colab_type": "text"
      },
      "source": [
        "<a href=\"https://colab.research.google.com/github/sansha/LearnCoding/blob/master/Day_2.ipynb\" target=\"_parent\"><img src=\"https://colab.research.google.com/assets/colab-badge.svg\" alt=\"Open In Colab\"/></a>"
      ]
    },
    {
      "cell_type": "code",
      "metadata": {
        "id": "Vg3B8oRAYQ9G",
        "colab_type": "code",
        "colab": {}
      },
      "source": [
        "print(\"Welcome Back!\")"
      ],
      "execution_count": 0,
      "outputs": []
    },
    {
      "cell_type": "markdown",
      "metadata": {
        "id": "E04Gzcu8Kdi8",
        "colab_type": "text"
      },
      "source": [
        "# Day 2\n",
        "\n",
        "all the days can be found on [github](https://www.github.com/sansha/LearnCoding)\n",
        "\n",
        "## Topic: for-loops\n",
        "\n",
        "Welcome to Day 2!\n",
        "Today we're talking a bit more about these for loops, because they're actually quite powerful. I moved all the solutions to the back so you don't accidentally spoil yourself!"
      ]
    },
    {
      "cell_type": "markdown",
      "metadata": {
        "id": "usfsN2KwM5y9",
        "colab_type": "text"
      },
      "source": [
        "##1 Reminder\n",
        "\n",
        "You can *iterate* through a list using a for loop like that:\n"
      ]
    },
    {
      "cell_type": "code",
      "metadata": {
        "id": "AK0871pXMxo1",
        "colab_type": "code",
        "colab": {}
      },
      "source": [
        "names = [\"Mom\", \"Dad\", \"Steve\"]\n",
        "for name in names:\n",
        "  print(\"Hello\", name)"
      ],
      "execution_count": 0,
      "outputs": []
    },
    {
      "cell_type": "markdown",
      "metadata": {
        "id": "BfkGgUp3Nt2X",
        "colab_type": "text"
      },
      "source": [
        "now, we would like to write the number of the person as well, so e.g.\n",
        "``` \n",
        "1. Hello Mom.\n",
        "2. Hello Dad\n",
        "... \n",
        "```\n",
        "for that, we need to keep track of how many names we have printed already. This can be done like this:"
      ]
    },
    {
      "cell_type": "code",
      "metadata": {
        "id": "OC2jijzjOIv6",
        "colab_type": "code",
        "colab": {}
      },
      "source": [
        "index = 1\n",
        "for name in names:\n",
        "  print(index, \"Hello\", name)"
      ],
      "execution_count": 0,
      "outputs": []
    },
    {
      "cell_type": "markdown",
      "metadata": {
        "id": "enZr3xVOOSIf",
        "colab_type": "text"
      },
      "source": [
        "oh wait... we forgot to actually change that number... let's try to google for a solution"
      ]
    },
    {
      "cell_type": "markdown",
      "metadata": {
        "id": "d9nRR_WKcEeP",
        "colab_type": "text"
      },
      "source": [
        "##2 Googling"
      ]
    },
    {
      "cell_type": "markdown",
      "metadata": {
        "id": "RMOgwPF3Omfs",
        "colab_type": "text"
      },
      "source": [
        "\n",
        "\n",
        "It's very important to know how to find solutions yourself while programming because normally you're doing something you didn't do before.\n",
        "\n",
        "<img src=\"https://pbs.twimg.com/media/Dlb-mxlU0AE9_sA.jpg\" alt=\"Drawing\" width=40% />\n",
        "\n",
        "so lets try to [search for \"python make number bigger\".](https://lmgtfy.com/?q=python+make+number+bigger)\n",
        "\n",
        "okay, this looks kinda confusing. Let's try something different. Maybe [increase number](https://lmgtfy.com/?q=python+increase+number)\n",
        "\n",
        "okay, looks definitely better. Let's click on the first link (which is not an ad), so you should end up on *stackoverflow*, more specifically [here](https://stackoverflow.com/questions/2632677/python-integer-incrementing-with)\n",
        "\n",
        "### Task 1: Finding what we need\n",
        "normally we're very impatient and want to get it done quickly, so we'll scan the website for whatever looks most promising and try that out immediatly. \n",
        "so first there is something which looks like `number++`, interesting but I guess thats part of the question.\n",
        "Now let's scroll down, okay apparently we can do `number += 1`, that might work? Let's not lose any time and try it out!\n",
        "\n"
      ]
    },
    {
      "cell_type": "code",
      "metadata": {
        "id": "hnI-x_96S3Xx",
        "colab_type": "code",
        "colab": {
          "base_uri": "https://localhost:8080/",
          "height": 69
        },
        "outputId": "8f95e96a-8ff0-4de3-8e65-3f965768f1b4"
      },
      "source": [
        "index = 1\n",
        "index += 1\n",
        "for name in names:\n",
        "  print(index, \"Hello\", name)"
      ],
      "execution_count": 5,
      "outputs": [
        {
          "output_type": "stream",
          "text": [
            "2 Hello Mom\n",
            "2 Hello Dad\n",
            "2 Hello Steve\n"
          ],
          "name": "stdout"
        }
      ]
    },
    {
      "cell_type": "markdown",
      "metadata": {
        "id": "Sa4ODCl0S8ll",
        "colab_type": "text"
      },
      "source": [
        "okay so it seemed to work somehow, it says `2 Hello Mum` so it's higher than before but that's not what we wanted. Try to move it to a position where it actually does what we want it to do!"
      ]
    },
    {
      "cell_type": "markdown",
      "metadata": {
        "id": "MneI7FYMQZCe",
        "colab_type": "text"
      },
      "source": [
        "### Search Approach\n",
        "\n",
        "generally, you should try to google something like \"[technology to use] [what you are trying to do]\"\n",
        "so e.g. our technology is `Python` as this is our programming language, so for this tutorial you'll mostly search for Python + whatever you wanna do."
      ]
    },
    {
      "cell_type": "markdown",
      "metadata": {
        "id": "z8rlcFRoTcou",
        "colab_type": "text"
      },
      "source": [
        "## Numbers from 1 to 10\n",
        "\n",
        "okay, so now let's print the numbers from one to ten. How? let's [google it](https://www.google.com/search?q=python+print+number+from+1+to+10)!\n",
        "\n",
        "The first result seems promising, so let's check it out! (you should be on [this page](https://djangocentral.com/python-program-to-print-numbers-from-1-to-10-using-for-loop/) now)\n",
        "try it out down below! and check if you can also print the numbers from 1 to 100!\n"
      ]
    },
    {
      "cell_type": "code",
      "metadata": {
        "id": "NLSh_ltiUQaI",
        "colab_type": "code",
        "colab": {}
      },
      "source": [
        "# put the code to print from 1 to 10 here!"
      ],
      "execution_count": 0,
      "outputs": []
    },
    {
      "cell_type": "markdown",
      "metadata": {
        "id": "b0kvVEYZUYcr",
        "colab_type": "text"
      },
      "source": [
        "## Accessing Lists by Index\n",
        "\n",
        "hmmm what does the headline say? just do a quick [search](https://www.google.com/search?client=ubuntu&channel=fs&q=python+accessing+list+by+index&ie=utf-8&oe=utf-8)\n",
        "\n",
        "### Quick summary\n",
        "\n",
        "when defining a list such as `list = [1,2,3,4,5,6,7]` you can access the elements by using the index like that: `list[index]`. The counting starts at 0 (why not?) so the first element is `list[0]`. You can find more information by googling for it ;).\n",
        "\n",
        "### How do I use that?\n",
        "\n",
        "as you have seen in the above example where you wanted to print numbers from 1 to 10, you can have a for loop like this:"
      ]
    },
    {
      "cell_type": "code",
      "metadata": {
        "id": "rtAPTz48VU09",
        "colab_type": "code",
        "colab": {}
      },
      "source": [
        "for i in range(10):\n",
        "  # do stuff 10 times (i will be 0 at first and 9 in the last round)"
      ],
      "execution_count": 0,
      "outputs": []
    },
    {
      "cell_type": "markdown",
      "metadata": {
        "id": "mv-mkyGWVT50",
        "colab_type": "text"
      },
      "source": [
        "so now we would like to go through our names list just like that. Can you find out how you can get the length of a list using python? Enter your solution into the field below and click the play button to check!"
      ]
    },
    {
      "cell_type": "code",
      "metadata": {
        "id": "z64ryC7gVrYQ",
        "colab_type": "code",
        "colab": {
          "base_uri": "https://localhost:8080/",
          "height": 34
        },
        "cellView": "form",
        "outputId": "12f63cfe-7aa0-4c8f-f3ab-48eff1e12244"
      },
      "source": [
        "#@title How do you get the length of `names`?\n",
        "command_to_get_length_of_names = \"\" #@param {type:\"string\"}\n",
        "if command_to_get_length_of_names == \"len(names)\":\n",
        "  print(\"That's correct, congratulations!\")\n",
        "else:\n",
        "  print(\"thats wrong, try again!\")"
      ],
      "execution_count": 10,
      "outputs": [
        {
          "output_type": "stream",
          "text": [
            "thats wrong, try again!\n"
          ],
          "name": "stdout"
        }
      ]
    },
    {
      "cell_type": "markdown",
      "metadata": {
        "id": "uNFC8SxdWMt0",
        "colab_type": "text"
      },
      "source": [
        "### Task 2: Creating our Loop\n",
        "\n",
        "# okay, so now we want to loop through our list using the indices. We have all we need!"
      ]
    },
    {
      "cell_type": "code",
      "metadata": {
        "id": "iR6zRwBpWdpV",
        "colab_type": "code",
        "colab": {}
      },
      "source": [
        "for i in range(): # add the length in between the brackets\n",
        "  print(i, \"Hello\", names[i])"
      ],
      "execution_count": 0,
      "outputs": []
    },
    {
      "cell_type": "markdown",
      "metadata": {
        "id": "FfkF2p1qWzig",
        "colab_type": "text"
      },
      "source": [
        "can you correct the small error we made? humans tend to count from 1 so we want to be nice to them :)\n",
        "\n",
        "### Style\n",
        "\n",
        "Actually, the way to loop we learned in the first lesson is considered a \"better style\" because it is more readable and sometimes more efficient. Are you interested in how you can get the index in that kind of for loop? [Search for it!](https://treyhunner.com/2016/04/how-to-loop-with-indexes-in-python/). Don't get discouraged if other articles use lot's of words you don't understand. Just try it out until it works ;)"
      ]
    },
    {
      "cell_type": "markdown",
      "metadata": {
        "id": "GpunC-GiW9xM",
        "colab_type": "text"
      },
      "source": [
        "## Wrapping up\n",
        "\n",
        "okay, that's it for today! feel free to get curious what else you might be able to do. You could check how you can style the `print` statement? Or maybe you can print all the numbers between 1 and 100 which can be divided by 3?\n",
        "\n"
      ]
    },
    {
      "cell_type": "markdown",
      "metadata": {
        "id": "s5cNdTejbpuy",
        "colab_type": "text"
      },
      "source": [
        "# Solutions"
      ]
    },
    {
      "cell_type": "markdown",
      "metadata": {
        "id": "1UBXZ8ohTOXG",
        "colab_type": "text"
      },
      "source": [
        "### Task 1: Solution"
      ]
    },
    {
      "cell_type": "code",
      "metadata": {
        "id": "sH5A9ly1TQHi",
        "colab_type": "code",
        "colab": {}
      },
      "source": [
        "index = 1\n",
        "for name in names:\n",
        "  print(index, \"Hello\", name)\n",
        "  index += 1 # if you put it above name it will be 2,3,4 instead of 1,2,3"
      ],
      "execution_count": 0,
      "outputs": []
    },
    {
      "cell_type": "markdown",
      "metadata": {
        "id": "hEjDOvoyccGU",
        "colab_type": "text"
      },
      "source": [
        "### Task 2: Solution"
      ]
    },
    {
      "cell_type": "code",
      "metadata": {
        "id": "7hbsjFbjcfle",
        "colab_type": "code",
        "colab": {}
      },
      "source": [
        "for i in range(len(names)): # add the length in between the brackets\n",
        "  print(i, \"Hello\", names[i])"
      ],
      "execution_count": 0,
      "outputs": []
    }
  ]
}
