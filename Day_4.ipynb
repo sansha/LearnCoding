{
  "nbformat": 4,
  "nbformat_minor": 0,
  "metadata": {
    "colab": {
      "name": "Day 4.ipynb",
      "provenance": [],
      "collapsed_sections": [],
      "authorship_tag": "ABX9TyN3kuEWJmzk/DhRrk2z9BX3",
      "include_colab_link": true
    },
    "kernelspec": {
      "name": "python3",
      "display_name": "Python 3"
    }
  },
  "cells": [
    {
      "cell_type": "markdown",
      "metadata": {
        "id": "view-in-github",
        "colab_type": "text"
      },
      "source": [
        "<a href=\"https://colab.research.google.com/github/sansha/LearnCoding/blob/master/Day_4.ipynb\" target=\"_parent\"><img src=\"https://colab.research.google.com/assets/colab-badge.svg\" alt=\"Open In Colab\"/></a>"
      ]
    },
    {
      "cell_type": "code",
      "metadata": {
        "id": "Vg3B8oRAYQ9G",
        "colab_type": "code",
        "outputId": "6a957294-53de-4272-ae54-3bce26ed3fa2",
        "colab": {
          "base_uri": "https://localhost:8080/",
          "height": 34
        }
      },
      "source": [
        "print(\"Welcome Back to Day 4!\")"
      ],
      "execution_count": 0,
      "outputs": [
        {
          "output_type": "stream",
          "text": [
            "Welcome Back to Day 3!\n"
          ],
          "name": "stdout"
        }
      ]
    },
    {
      "cell_type": "markdown",
      "metadata": {
        "id": "E04Gzcu8Kdi8",
        "colab_type": "text"
      },
      "source": [
        "# Day 4\n",
        "\n",
        "all the days can be found on [github](https://www.github.com/sansha/LearnCoding)\n",
        "\n",
        "## Topic: Lists & Co, Errors :)\n",
        "\n",
        "Welcome to Day 4! I like you're still on board!\n",
        "Today we're taking a closer look at the more complex types called objects.\n",
        "We have already seen the list (we had the list of names, right?).\n",
        "In the following there is an explanation about the others as well\n"
      ]
    },
    {
      "cell_type": "markdown",
      "metadata": {
        "id": "Ec1mksVaiqdA",
        "colab_type": "text"
      },
      "source": [
        "# Theory Part 2\n",
        "\n",
        "A lot of the following content is copied and adapted from [here](https://gist.github.com/kenjyco/69eeb503125035f21a9d)\n"
      ]
    },
    {
      "cell_type": "markdown",
      "metadata": {
        "deletable": true,
        "editable": true,
        "id": "Yj1uH9CKczzT",
        "colab_type": "text"
      },
      "source": [
        "## Basic containers\n",
        "\n",
        "> Note: **mutable** objects can be modified after creation and **immutable** objects cannot.\n",
        "> \n",
        ">I added a simple description there and some nerd infos (in brackets). the nerd infos are defintely useful later, but don't worry too much about them for now.\n",
        "\n",
        "Containers are objects that can be used to group other objects together. The basic container types include:\n",
        "\n",
        "- **`str`** these are what we used to store text \n",
        "\n",
        "  (string: immutable; indexed by integers; items are stored in the order they were added)\n",
        "- **`list`** we already used these to store multiple items \n",
        "\n",
        "  (list: mutable; indexed by integers; items are stored in the order they were added)\n",
        "  - `[3, 5, 6, 3, 'dog', 'cat', False]`\n",
        "- **`tuple`** this is kinda similar to the list, however it uses round brackets and it is e.g. used to store a pairs of things \n",
        "\n",
        "  (tuple: immutable; indexed by integers; items are stored in the order they were added)\n",
        "  - `(3, 5, 6, 3, 'dog', 'cat', False)`\n",
        "- **`set`** this is used when you have unordered stuff \n",
        "\n",
        "  (set: mutable; not indexed at all; items are NOT stored in the order they were added; can only contain immutable objects; does NOT contain duplicate objects)\n",
        "  - `{3, 5, 6, 3, 'dog', 'cat', False}`\n",
        "- **`dict`** this actually works how you would imagine a dictionary to work. It will store so called key-value pairs, which could be a word in your language (key) and the translation (value). These are also really useful\n",
        "\n",
        "  (dictionary: mutable; key-value pairs are indexed by immutable keys; items are NOT stored in the order they were added)\n",
        "  - `{'name': 'Jane', 'age': 23, 'fav_foods': ['pizza', 'fruit', 'fish']}`\n",
        "\n",
        "When defining lists, tuples, or sets, use commas (,) to separate the individual items. When defining dicts, use a colon (:) to separate keys from values and commas (,) to separate the key-value pairs.\n",
        "\n",
        "Strings, lists, and tuples are all **sequence types** that can use the `+`, `*`, `+=`, and `*=` operators. This means if you have two of those, you can just *add* them together!\n",
        "\n",
        "### Examples\n",
        "Here you can find tons of examples of these types! make sure to play around for a bit!"
      ]
    },
    {
      "cell_type": "code",
      "metadata": {
        "deletable": true,
        "editable": true,
        "id": "DNBHjsJlczzT",
        "colab_type": "code",
        "colab": {}
      },
      "source": [
        "# Assign some containers to different variables\n",
        "list1 = [3, 5, 6, 3, 'dog', 'cat', False]\n",
        "tuple1 = (3, 5, 6, 3, 'dog', 'cat', False)\n",
        "set1 = {3, 5, 6, 3, 'dog', 'cat', False}\n",
        "dict1 = {'name': 'Jane', 'age': 23, 'fav_foods': ['pizza', 'fruit', 'fish']}"
      ],
      "execution_count": 0,
      "outputs": []
    },
    {
      "cell_type": "code",
      "metadata": {
        "deletable": true,
        "editable": true,
        "id": "5fd2nwcxczzc",
        "colab_type": "code",
        "outputId": "d5e50f84-71a9-4831-82be-3cf8ad1478fb",
        "colab": {
          "base_uri": "https://localhost:8080/",
          "height": 34
        }
      },
      "source": [
        "# Items in the list object are stored in the order they were added\n",
        "list1"
      ],
      "execution_count": 0,
      "outputs": [
        {
          "output_type": "execute_result",
          "data": {
            "text/plain": [
              "[3, 5, 6, 3, 'dog', 'cat', False]"
            ]
          },
          "metadata": {
            "tags": []
          },
          "execution_count": 4
        }
      ]
    },
    {
      "cell_type": "code",
      "metadata": {
        "deletable": true,
        "editable": true,
        "id": "JMMiBUVyczzi",
        "colab_type": "code",
        "outputId": "dae33000-8e41-4ea0-f88e-e033223080dc",
        "colab": {
          "base_uri": "https://localhost:8080/",
          "height": 34
        }
      },
      "source": [
        "# Items in the tuple object are stored in the order they were added\n",
        "tuple1"
      ],
      "execution_count": 0,
      "outputs": [
        {
          "output_type": "execute_result",
          "data": {
            "text/plain": [
              "(3, 5, 6, 3, 'dog', 'cat', False)"
            ]
          },
          "metadata": {
            "tags": []
          },
          "execution_count": 5
        }
      ]
    },
    {
      "cell_type": "code",
      "metadata": {
        "deletable": true,
        "editable": true,
        "id": "8QCQKa6Aczzl",
        "colab_type": "code",
        "outputId": "aa2cc53b-c27f-4976-c326-fa8a54b67020",
        "colab": {
          "base_uri": "https://localhost:8080/",
          "height": 34
        }
      },
      "source": [
        "# Items in the set object are not stored in the order they were added\n",
        "# Also, notice that the value 3 only appears once in this set object\n",
        "set1"
      ],
      "execution_count": 0,
      "outputs": [
        {
          "output_type": "execute_result",
          "data": {
            "text/plain": [
              "{3, 5, 6, False, 'cat', 'dog'}"
            ]
          },
          "metadata": {
            "tags": []
          },
          "execution_count": 6
        }
      ]
    },
    {
      "cell_type": "code",
      "metadata": {
        "deletable": true,
        "editable": true,
        "id": "2mvZPmHmczzo",
        "colab_type": "code",
        "outputId": "fd1370f6-35f2-43f8-85ea-215281d900d2",
        "colab": {
          "base_uri": "https://localhost:8080/",
          "height": 34
        }
      },
      "source": [
        "# Items in the dict object are not stored in the order they were added\n",
        "dict1"
      ],
      "execution_count": 0,
      "outputs": [
        {
          "output_type": "execute_result",
          "data": {
            "text/plain": [
              "{'age': 23, 'fav_foods': ['pizza', 'fruit', 'fish'], 'name': 'Jane'}"
            ]
          },
          "metadata": {
            "tags": []
          },
          "execution_count": 7
        }
      ]
    },
    {
      "cell_type": "code",
      "metadata": {
        "deletable": true,
        "editable": true,
        "id": "2mhgjZA1czzr",
        "colab_type": "code",
        "outputId": "a1a28d9d-73d1-4146-b334-0dd0bc7df5ed",
        "colab": {
          "base_uri": "https://localhost:8080/",
          "height": 34
        }
      },
      "source": [
        "# Add and re-assign\n",
        "list1 += [5, 'grapes']\n",
        "list1"
      ],
      "execution_count": 0,
      "outputs": [
        {
          "output_type": "execute_result",
          "data": {
            "text/plain": [
              "[3, 5, 6, 3, 'dog', 'cat', False, 5, 'grapes']"
            ]
          },
          "metadata": {
            "tags": []
          },
          "execution_count": 8
        }
      ]
    },
    {
      "cell_type": "code",
      "metadata": {
        "deletable": true,
        "editable": true,
        "id": "JCLjJLVFczzw",
        "colab_type": "code",
        "outputId": "26865e1d-62fe-4246-dd2d-61cd0f8f1710",
        "colab": {
          "base_uri": "https://localhost:8080/",
          "height": 34
        }
      },
      "source": [
        "# Add and re-assign\n",
        "tuple1 += (5, 'grapes')\n",
        "tuple1"
      ],
      "execution_count": 0,
      "outputs": [
        {
          "output_type": "execute_result",
          "data": {
            "text/plain": [
              "(3, 5, 6, 3, 'dog', 'cat', False, 5, 'grapes')"
            ]
          },
          "metadata": {
            "tags": []
          },
          "execution_count": 9
        }
      ]
    },
    {
      "cell_type": "code",
      "metadata": {
        "deletable": true,
        "editable": true,
        "id": "7u7dZWtfczzy",
        "colab_type": "code",
        "outputId": "44113286-2c42-453d-f200-e9809b660736",
        "colab": {
          "base_uri": "https://localhost:8080/",
          "height": 34
        }
      },
      "source": [
        "# Multiply\n",
        "[1, 2, 3, 4] * 2"
      ],
      "execution_count": 0,
      "outputs": [
        {
          "output_type": "execute_result",
          "data": {
            "text/plain": [
              "[1, 2, 3, 4, 1, 2, 3, 4]"
            ]
          },
          "metadata": {
            "tags": []
          },
          "execution_count": 10
        }
      ]
    },
    {
      "cell_type": "code",
      "metadata": {
        "deletable": true,
        "editable": true,
        "id": "vdjrEEP3czz1",
        "colab_type": "code",
        "outputId": "cdb0316c-4514-415a-a5a5-92dbb057d514",
        "colab": {
          "base_uri": "https://localhost:8080/",
          "height": 34
        }
      },
      "source": [
        "# Multiply\n",
        "(1, 2, 3, 4) * 3"
      ],
      "execution_count": 0,
      "outputs": [
        {
          "output_type": "execute_result",
          "data": {
            "text/plain": [
              "(1, 2, 3, 4, 1, 2, 3, 4, 1, 2, 3, 4)"
            ]
          },
          "metadata": {
            "tags": []
          },
          "execution_count": 11
        }
      ]
    },
    {
      "cell_type": "markdown",
      "metadata": {
        "deletable": true,
        "editable": true,
        "id": "END7cnIQczz6",
        "colab_type": "text"
      },
      "source": [
        "## Accessing data in containers\n",
        "\n",
        "For strings, lists, tuples, and dicts, we can use **subscript notation** (square brackets) to access data at an index.\n",
        "\n",
        "- strings, lists, and tuples are indexed by integers, **starting at 0** for first item\n",
        "  - these sequence types also support accesing a range of items, known as **slicing**\n",
        "  - use **negative indexing** to start at the back of the sequence\n",
        "- dicts are indexed by their keys\n",
        "\n",
        "> Note: sets are not indexed, so we cannot use subscript notation to access data elements.\n",
        "\n",
        "For these, it is important that you have executed all the fields above. If you haven't, you can go to `Runtime -> execute all cells`"
      ]
    },
    {
      "cell_type": "code",
      "metadata": {
        "deletable": true,
        "editable": true,
        "id": "8oF87BWMczz6",
        "colab_type": "code",
        "outputId": "73925e72-fff3-4cc1-8fb4-8e4b427839ba",
        "colab": {
          "base_uri": "https://localhost:8080/",
          "height": 34
        }
      },
      "source": [
        "# Access the first item in a sequence\n",
        "list1[0]"
      ],
      "execution_count": 0,
      "outputs": [
        {
          "output_type": "execute_result",
          "data": {
            "text/plain": [
              "3"
            ]
          },
          "metadata": {
            "tags": []
          },
          "execution_count": 12
        }
      ]
    },
    {
      "cell_type": "code",
      "metadata": {
        "deletable": true,
        "editable": true,
        "id": "qFa2VtQ8cz0A",
        "colab_type": "code",
        "outputId": "36fb9d2f-172a-4193-d8a0-bff897ad5ed7",
        "colab": {
          "base_uri": "https://localhost:8080/",
          "height": 34
        }
      },
      "source": [
        "# Access the last item in a sequence\n",
        "tuple1[-1]"
      ],
      "execution_count": 0,
      "outputs": [
        {
          "output_type": "execute_result",
          "data": {
            "text/plain": [
              "'grapes'"
            ]
          },
          "metadata": {
            "tags": []
          },
          "execution_count": 13
        }
      ]
    },
    {
      "cell_type": "code",
      "metadata": {
        "deletable": true,
        "editable": true,
        "id": "aaQwXJo5cz0C",
        "colab_type": "code",
        "outputId": "492f0e05-c2a9-458e-c777-7641d1192a35",
        "colab": {
          "base_uri": "https://localhost:8080/",
          "height": 34
        }
      },
      "source": [
        "# Access a range of items in a sequence\n",
        "simple_string1 = \"this is some long text\"\n",
        "simple_string1[3:8]"
      ],
      "execution_count": 0,
      "outputs": [
        {
          "output_type": "execute_result",
          "data": {
            "text/plain": [
              "'s is '"
            ]
          },
          "metadata": {
            "tags": []
          },
          "execution_count": 16
        }
      ]
    },
    {
      "cell_type": "code",
      "metadata": {
        "deletable": true,
        "editable": true,
        "id": "PQ1OYFZScz0F",
        "colab_type": "code",
        "colab": {}
      },
      "source": [
        "# Access a range of items in a sequence\n",
        "tuple1[:-3]"
      ],
      "execution_count": 0,
      "outputs": []
    },
    {
      "cell_type": "code",
      "metadata": {
        "deletable": true,
        "editable": true,
        "id": "0x-B3he9cz0I",
        "colab_type": "code",
        "colab": {}
      },
      "source": [
        "# Access a range of items in a sequence\n",
        "list1[4:]"
      ],
      "execution_count": 0,
      "outputs": []
    },
    {
      "cell_type": "code",
      "metadata": {
        "deletable": true,
        "editable": true,
        "id": "ZbHVTSuTcz0J",
        "colab_type": "code",
        "colab": {}
      },
      "source": [
        "# Access an item in a dictionary\n",
        "dict1['name']"
      ],
      "execution_count": 0,
      "outputs": []
    },
    {
      "cell_type": "code",
      "metadata": {
        "deletable": true,
        "editable": true,
        "id": "O93JjPvVcz0M",
        "colab_type": "code",
        "colab": {}
      },
      "source": [
        "# Access an element of a sequence in a dictionary\n",
        "dict1['fav_foods'][2]"
      ],
      "execution_count": 0,
      "outputs": []
    },
    {
      "cell_type": "markdown",
      "metadata": {
        "id": "pWf5z2h7q6NI",
        "colab_type": "text"
      },
      "source": [
        "## Task 1:\n",
        "\n",
        "now, create a dictionary with the names of three people and their ages and print them to the console. You should have learned all you need for this :)\n",
        "\n",
        "If you're stuck, you can check out the hint I provided for you."
      ]
    },
    {
      "cell_type": "code",
      "metadata": {
        "id": "bXLs06rjrEi7",
        "colab_type": "code",
        "colab": {}
      },
      "source": [
        ""
      ],
      "execution_count": 0,
      "outputs": []
    },
    {
      "cell_type": "markdown",
      "metadata": {
        "id": "A1QhagxeR8pY",
        "colab_type": "text"
      },
      "source": [
        "# 2 Errors"
      ]
    },
    {
      "cell_type": "markdown",
      "metadata": {
        "id": "F4zrejLaR-SV",
        "colab_type": "text"
      },
      "source": [
        "### Task 2\n",
        "\n",
        "actually, there is also another way of adding two strings together: the `+` operator!"
      ]
    },
    {
      "cell_type": "code",
      "metadata": {
        "id": "QlLiMVVCSGuw",
        "colab_type": "code",
        "colab": {}
      },
      "source": [
        "a = \"something\"\n",
        "b = \"something else\"\n",
        "combined = a + \" & \" + b\n",
        "print(combined)"
      ],
      "execution_count": 0,
      "outputs": []
    },
    {
      "cell_type": "markdown",
      "metadata": {
        "id": "UmkDhCH5SWJ_",
        "colab_type": "text"
      },
      "source": [
        "now add the number to the string and print it!"
      ]
    },
    {
      "cell_type": "code",
      "metadata": {
        "id": "AblgC1SGSefE",
        "colab_type": "code",
        "colab": {}
      },
      "source": [
        "combined_and_number =  # add here\n",
        "print(combined_and_number)"
      ],
      "execution_count": 0,
      "outputs": []
    },
    {
      "cell_type": "markdown",
      "metadata": {
        "id": "06wo-HLESlIF",
        "colab_type": "text"
      },
      "source": [
        "oh no! There's an error! That is completely **normal**. Maybe you already experienced an error while doing this tutorial. So, what are you gonna do? Of course, use Google! (hint: use the error message at the bottom `SyntaxError: invalid syntax`)\n",
        "\n",
        "What did you find out about this error and how can you fix it?"
      ]
    },
    {
      "cell_type": "code",
      "metadata": {
        "id": "OWjQ8ovjS7vB",
        "colab_type": "code",
        "colab": {}
      },
      "source": [
        "## correct your mistake in the code above"
      ],
      "execution_count": 0,
      "outputs": []
    },
    {
      "cell_type": "markdown",
      "metadata": {
        "id": "8JQeZ3NdT-yE",
        "colab_type": "text"
      },
      "source": [
        "what other errors can you make? There are actually different classes of errors, the most broad ones being\n",
        "- syntactic erros, meaning the computer will tell you that it doesn't understand what yo're saying\n",
        "- semantic errors, where the computer can do whatever you want him to do, but this is not what you actually wanted to do\n",
        "\n",
        "Don't worry about these definitions as of now, you can always come back here once you read semantic or syntactic and don't understand what's going on."
      ]
    },
    {
      "cell_type": "markdown",
      "metadata": {
        "id": "u1jp9902U-Wt",
        "colab_type": "text"
      },
      "source": [
        "### Task 3 correct the errors\n",
        "\n",
        "So, for the beginning we will focus on typos which can happen while coding. So let's see what kind of errors you will get in the following examples.\n",
        "\n",
        "There is one error per code block. \n",
        "First just run the code, read the error message and ask yourself what it could mean. After that, compare what you see here to what you've seen previously and try to fix it and run it again. \n",
        "\n",
        "If this doesn't work, google the error message. \n"
      ]
    },
    {
      "cell_type": "code",
      "metadata": {
        "id": "s9v2EoWNUqqY",
        "colab_type": "code",
        "colab": {}
      },
      "source": [
        "variable = "
      ],
      "execution_count": 0,
      "outputs": []
    },
    {
      "cell_type": "markdown",
      "metadata": {
        "id": "UY7MQ9_TUvB7",
        "colab_type": "text"
      },
      "source": [
        "the error message actually points to the point where the error was detected!"
      ]
    },
    {
      "cell_type": "code",
      "metadata": {
        "id": "sBWcFx0VU0-8",
        "colab_type": "code",
        "colab": {}
      },
      "source": [
        "variable = \"some words"
      ],
      "execution_count": 0,
      "outputs": []
    },
    {
      "cell_type": "code",
      "metadata": {
        "id": "5G9FRMnyVaNT",
        "colab_type": "code",
        "colab": {}
      },
      "source": [
        "print(something)"
      ],
      "execution_count": 0,
      "outputs": []
    },
    {
      "cell_type": "code",
      "metadata": {
        "id": "X7Q6Qs4EVjY0",
        "colab_type": "code",
        "colab": {}
      },
      "source": [
        "print(varable)"
      ],
      "execution_count": 0,
      "outputs": []
    },
    {
      "cell_type": "code",
      "metadata": {
        "id": "aRW6QkviVnM2",
        "colab_type": "code",
        "colab": {}
      },
      "source": [
        "print(variable"
      ],
      "execution_count": 0,
      "outputs": []
    },
    {
      "cell_type": "markdown",
      "metadata": {
        "id": "uzGrKQBGVrXh",
        "colab_type": "text"
      },
      "source": [
        "now we will also have a *semantic* error meaning it will execute normally, but the result is not what you expected:"
      ]
    },
    {
      "cell_type": "code",
      "metadata": {
        "id": "Am6L16evVyKn",
        "colab_type": "code",
        "colab": {}
      },
      "source": [
        "stuff = \"something\"\n",
        "print(\"this is {stuff}\")"
      ],
      "execution_count": 0,
      "outputs": []
    },
    {
      "cell_type": "markdown",
      "metadata": {
        "id": "NXRhGZROV6Qa",
        "colab_type": "text"
      },
      "source": [
        "what is missing here?"
      ]
    },
    {
      "cell_type": "markdown",
      "metadata": {
        "id": "s5cNdTejbpuy",
        "colab_type": "text"
      },
      "source": [
        "# Solutions"
      ]
    },
    {
      "cell_type": "markdown",
      "metadata": {
        "id": "rjynahumromN",
        "colab_type": "text"
      },
      "source": [
        "## Task 1: \n"
      ]
    },
    {
      "cell_type": "markdown",
      "metadata": {
        "id": "hfpz_w90sGIO",
        "colab_type": "text"
      },
      "source": [
        "### Hint"
      ]
    },
    {
      "cell_type": "code",
      "metadata": {
        "id": "V8b-ZSuWsHoB",
        "colab_type": "code",
        "colab": {}
      },
      "source": [
        "dict = {} # add names here\n",
        "\n",
        "for name in dict:\n",
        "  # add print here"
      ],
      "execution_count": 0,
      "outputs": []
    },
    {
      "cell_type": "markdown",
      "metadata": {
        "id": "LbuF8EfYsE4z",
        "colab_type": "text"
      },
      "source": [
        "### Solution"
      ]
    },
    {
      "cell_type": "code",
      "metadata": {
        "id": "EhjxcgeUrrFk",
        "colab_type": "code",
        "outputId": "5e1d6a8e-13f7-474e-abaf-94e11b862eae",
        "colab": {
          "base_uri": "https://localhost:8080/",
          "height": 52
        }
      },
      "source": [
        "dict = {\"Peter\": 25, \"Jane\": 12} # add name: age pairs here\n",
        "\n",
        "for name in dict:\n",
        "  print(f\"{name} is {dict[name]} years old\")"
      ],
      "execution_count": 0,
      "outputs": [
        {
          "output_type": "stream",
          "text": [
            "Peter is 25 years old\n",
            "Jane is 12 years old\n"
          ],
          "name": "stdout"
        }
      ]
    },
    {
      "cell_type": "markdown",
      "metadata": {
        "id": "1UBXZ8ohTOXG",
        "colab_type": "text"
      },
      "source": [
        "## Task 2: Solution"
      ]
    },
    {
      "cell_type": "markdown",
      "metadata": {
        "id": "HimeAx_bTJlh",
        "colab_type": "text"
      },
      "source": [
        "as the [first google result suggests](https://guide.freecodecamp.org/python/converting-integer-to-string-in-python/), the variable has a wrong *type*. We're going to talk about Types in the future in more detail. For now, the website suggests using `str(age)` in their example. So, we will use  "
      ]
    },
    {
      "cell_type": "code",
      "metadata": {
        "id": "LBrhLrqVTcYU",
        "colab_type": "code",
        "colab": {}
      },
      "source": [
        "combined_and_number = combined + str(number) # add here\n",
        "print(combined_and_number)"
      ],
      "execution_count": 0,
      "outputs": []
    },
    {
      "cell_type": "markdown",
      "metadata": {
        "id": "O0fetRRpThk-",
        "colab_type": "text"
      },
      "source": [
        "the `f\"text {variable}` thing we did previously actually does this implicitly so we don't need to worry about it! That's why it's often useful to just use that variant. It converts whatever you have into a printable string."
      ]
    },
    {
      "cell_type": "markdown",
      "metadata": {
        "id": "hEjDOvoyccGU",
        "colab_type": "text"
      },
      "source": [
        "## Task 3: Solution"
      ]
    },
    {
      "cell_type": "code",
      "metadata": {
        "id": "IH1qLvwGWDyX",
        "colab_type": "code",
        "colab": {}
      },
      "source": [
        "# the solution to all parts can be found here\n",
        "\n",
        "# you need to have something after the '=' sign\n",
        "# \"\" is called \"empty string\" and contains nothing\n",
        "variable = \"\" \n",
        "\n",
        "# a string must start and end with \", otherwise the computer will not understand\n",
        "variable = \"some words\"\n",
        "\n",
        "# you can't print something that is not defined, \n",
        "# you have to define something before using it\n",
        "something = \"blabla\"\n",
        "print(something)\n",
        "\n",
        "# same goes for the 2nd one, with a typo it will treat varable as a new thing\n",
        "print(variable)\n",
        "\n",
        "# similar to the \"\", after print( you need a closing ), otherwise the computer\n",
        "# will not understand\n",
        "print(variable)\n",
        "\n",
        "# dont forget the small f before \"\"\n",
        "# hint: it actually also looks different, right?\n",
        "stuff = \"something\"\n",
        "print(f\"this is {stuff}\")"
      ],
      "execution_count": 0,
      "outputs": []
    }
  ]
}