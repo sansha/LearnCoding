{
  "nbformat": 4,
  "nbformat_minor": 0,
  "metadata": {
    "colab": {
      "name": "Day 5.ipynb",
      "provenance": [],
      "collapsed_sections": [],
      "authorship_tag": "ABX9TyO7FZEdYKepMaBFdUWh322l",
      "include_colab_link": true
    },
    "kernelspec": {
      "name": "python3",
      "display_name": "Python 3"
    }
  },
  "cells": [
    {
      "cell_type": "markdown",
      "metadata": {
        "id": "view-in-github",
        "colab_type": "text"
      },
      "source": [
        "<a href=\"https://colab.research.google.com/github/sansha/LearnCoding/blob/master/Day_5.ipynb\" target=\"_parent\"><img src=\"https://colab.research.google.com/assets/colab-badge.svg\" alt=\"Open In Colab\"/></a>"
      ]
    },
    {
      "cell_type": "code",
      "metadata": {
        "id": "Vg3B8oRAYQ9G",
        "colab_type": "code",
        "colab": {}
      },
      "source": [
        "print(\"Welcome Back to Day 5!\")"
      ],
      "execution_count": 0,
      "outputs": []
    },
    {
      "cell_type": "markdown",
      "metadata": {
        "id": "E04Gzcu8Kdi8",
        "colab_type": "text"
      },
      "source": [
        "# Day 5\n",
        "\n",
        "all the days can be found on [github](https://www.github.com/sansha/LearnCoding)\n",
        "\n",
        "## Topic: Functions and Math :)\n",
        "\n",
        "Welcome to Day 5! We've come a long way :)\n",
        "\n",
        "remember when I asked you how to get the length of a list and you found the answer by googling? That was nice. But sometimes, we don't even know what's possible. To get you started, there's an overview on al lot of functions you can use directly with python!"
      ]
    },
    {
      "cell_type": "markdown",
      "metadata": {
        "id": "iA-AHj35poEe",
        "colab_type": "text"
      },
      "source": [
        "# Theory Part 3\n",
        "\n",
        "A lot of the following content is copied and adapted from [here](https://gist.github.com/kenjyco/69eeb503125035f21a9d)\n"
      ]
    },
    {
      "cell_type": "markdown",
      "metadata": {
        "deletable": true,
        "editable": true,
        "id": "5IraQ1zBcz0P",
        "colab_type": "text"
      },
      "source": [
        "## Python built-in functions and callables\n",
        "\n",
        "A **function** is a Python object that you can \"call\" to **perform an action** or compute and **return another object**. You call a function by placing parentheses to the right of the function name. Some functions allow you to pass **arguments** inside the parentheses (separating multiple arguments with a comma). Internal to the function, these arguments are treated like variables.\n",
        "\n",
        "Python has several useful built-in functions to help you work with different objects and/or your environment. Here is a small sample of them:\n",
        "\n",
        "- **`type(obj)`** to determine the type of an object\n",
        "- **`len(container)`** to determine how many items are in a container\n",
        "- **`callable(obj)`** to determine if an object is callable\n",
        "- **`sorted(container)`** to return a new list from a container, with the items sorted\n",
        "- **`sum(container)`** to compute the sum of a container of numbers\n",
        "- **`min(container)`** to determine the smallest item in a container\n",
        "- **`max(container)`** to determine the largest item in a container\n",
        "- **`abs(number)`** to determine the absolute value of a number\n",
        "- **`repr(obj)`** to return a string representation of an object\n",
        "\n",
        "> Complete list of built-in functions: https://docs.python.org/3/library/functions.html\n",
        "\n",
        "There are also different ways of defining your own functions and callable objects that we will explore later."
      ]
    },
    {
      "cell_type": "code",
      "metadata": {
        "deletable": true,
        "editable": true,
        "id": "lgcEI5DRcz0Q",
        "colab_type": "code",
        "colab": {}
      },
      "source": [
        "# Use the type() function to determine the type of an object\n",
        "type(simple_string1)"
      ],
      "execution_count": 0,
      "outputs": []
    },
    {
      "cell_type": "code",
      "metadata": {
        "deletable": true,
        "editable": true,
        "id": "_lpyMOHqcz0S",
        "colab_type": "code",
        "colab": {}
      },
      "source": [
        "# Use the len() function to determine how many items are in a container\n",
        "len(dict1)"
      ],
      "execution_count": 0,
      "outputs": []
    },
    {
      "cell_type": "code",
      "metadata": {
        "deletable": true,
        "editable": true,
        "id": "5hQOT-mocz0U",
        "colab_type": "code",
        "colab": {}
      },
      "source": [
        "# Use the len() function to determine how many items are in a container\n",
        "len(simple_string2)"
      ],
      "execution_count": 0,
      "outputs": []
    },
    {
      "cell_type": "code",
      "metadata": {
        "deletable": true,
        "editable": true,
        "id": "aHdKZgeQcz0Y",
        "colab_type": "code",
        "colab": {}
      },
      "source": [
        "# Use the callable() function to determine if an object is callable\n",
        "callable(len)"
      ],
      "execution_count": 0,
      "outputs": []
    },
    {
      "cell_type": "code",
      "metadata": {
        "deletable": true,
        "editable": true,
        "id": "imjYxef4cz0a",
        "colab_type": "code",
        "colab": {}
      },
      "source": [
        "# Use the callable() function to determine if an object is callable\n",
        "callable(dict1)"
      ],
      "execution_count": 0,
      "outputs": []
    },
    {
      "cell_type": "code",
      "metadata": {
        "deletable": true,
        "editable": true,
        "id": "V8Ie3uPWcz0d",
        "colab_type": "code",
        "colab": {}
      },
      "source": [
        "# Use the sorted() function to return a new list from a container, with the items sorted\n",
        "sorted([10, 1, 3.6, 7, 5, 2, -3])"
      ],
      "execution_count": 0,
      "outputs": []
    },
    {
      "cell_type": "code",
      "metadata": {
        "deletable": true,
        "editable": true,
        "id": "z397NxhBcz0f",
        "colab_type": "code",
        "colab": {}
      },
      "source": [
        "# Use the sorted() function to return a new list from a container, with the items sorted\n",
        "# - notice that capitalized strings come first\n",
        "sorted(['dogs', 'cats', 'zebras', 'Chicago', 'California', 'ants', 'mice'])"
      ],
      "execution_count": 0,
      "outputs": []
    },
    {
      "cell_type": "code",
      "metadata": {
        "deletable": true,
        "editable": true,
        "id": "TIrB4D_6cz0j",
        "colab_type": "code",
        "colab": {}
      },
      "source": [
        "# Use the sum() function to compute the sum of a container of numbers\n",
        "sum([10, 1, 3.6, 7, 5, 2, -3])"
      ],
      "execution_count": 0,
      "outputs": []
    },
    {
      "cell_type": "code",
      "metadata": {
        "deletable": true,
        "editable": true,
        "id": "968bvG3Ocz0l",
        "colab_type": "code",
        "colab": {}
      },
      "source": [
        "# Use the min() function to determine the smallest item in a container\n",
        "min([10, 1, 3.6, 7, 5, 2, -3])"
      ],
      "execution_count": 0,
      "outputs": []
    },
    {
      "cell_type": "code",
      "metadata": {
        "deletable": true,
        "editable": true,
        "id": "EttV9zX7cz0o",
        "colab_type": "code",
        "colab": {}
      },
      "source": [
        "# Use the min() function to determine the smallest item in a container\n",
        "min(['g', 'z', 'a', 'y'])"
      ],
      "execution_count": 0,
      "outputs": []
    },
    {
      "cell_type": "code",
      "metadata": {
        "deletable": true,
        "editable": true,
        "id": "lwi-09Eycz0r",
        "colab_type": "code",
        "colab": {}
      },
      "source": [
        "# Use the max() function to determine the largest item in a container\n",
        "max([10, 1, 3.6, 7, 5, 2, -3])"
      ],
      "execution_count": 0,
      "outputs": []
    },
    {
      "cell_type": "code",
      "metadata": {
        "deletable": true,
        "editable": true,
        "id": "IpA9dDthcz0s",
        "colab_type": "code",
        "colab": {}
      },
      "source": [
        "# Use the max() function to determine the largest item in a container\n",
        "max('gibberish')"
      ],
      "execution_count": 0,
      "outputs": []
    },
    {
      "cell_type": "code",
      "metadata": {
        "deletable": true,
        "editable": true,
        "id": "FfxyiWYmcz0w",
        "colab_type": "code",
        "colab": {}
      },
      "source": [
        "# Use the abs() function to determine the absolute value of a number\n",
        "abs(10)"
      ],
      "execution_count": 0,
      "outputs": []
    },
    {
      "cell_type": "code",
      "metadata": {
        "deletable": true,
        "editable": true,
        "id": "OtIMugjwcz0z",
        "colab_type": "code",
        "colab": {}
      },
      "source": [
        "# Use the abs() function to determine the absolute value of a number\n",
        "abs(-12)"
      ],
      "execution_count": 0,
      "outputs": []
    },
    {
      "cell_type": "code",
      "metadata": {
        "deletable": true,
        "editable": true,
        "id": "48j3yQQEcz02",
        "colab_type": "code",
        "colab": {}
      },
      "source": [
        "# Use the repr() function to return a string representation of an object\n",
        "repr(set1)"
      ],
      "execution_count": 0,
      "outputs": []
    },
    {
      "cell_type": "markdown",
      "metadata": {
        "id": "6g9IOR5pt20l",
        "colab_type": "text"
      },
      "source": [
        "## Task 1: Print three biggest numbers from array\n"
      ]
    },
    {
      "cell_type": "markdown",
      "metadata": {
        "id": "lURGwNuluH5s",
        "colab_type": "text"
      },
      "source": [
        "This task might be a bit tricky. Can you think of a way to get the 3 biggest numbers of an array? Don't be afraid to use Google if you have an idea but miss some functionality."
      ]
    },
    {
      "cell_type": "code",
      "metadata": {
        "id": "A_b9onokuB6o",
        "colab_type": "code",
        "colab": {}
      },
      "source": [
        "arr = [10, 1, 3.6, 7, 5, 2, -3]\n",
        "## write some code that prints the 3 biggest numbers of this array"
      ],
      "execution_count": 0,
      "outputs": []
    },
    {
      "cell_type": "markdown",
      "metadata": {
        "deletable": true,
        "editable": true,
        "id": "3whvlmFPcz04",
        "colab_type": "text"
      },
      "source": [
        "## Python object attributes (methods and properties)\n",
        "\n",
        "Different types of objects in Python have different **attributes** that can be referred to by name (similar to a variable). To access an attribute of an object, use a dot (`.`) after the object, then specify the attribute (i.e. `obj.attribute`)\n",
        "\n",
        "When an attribute of an object is a callable, that attribute is called a **method**. It is the same as a function, only this function is bound to a particular object.\n",
        "\n",
        "When an attribute of an object is not a callable, that attribute is called a **property**. It is just a piece of data about the object, that is itself another object.\n",
        "\n",
        "The built-in `dir()` function can be used to return a list of an object's attributes.\n",
        "\n",
        "<hr>"
      ]
    },
    {
      "cell_type": "markdown",
      "metadata": {
        "deletable": true,
        "editable": true,
        "id": "0njmkHRDcz05",
        "colab_type": "text"
      },
      "source": [
        "## Some methods on string objects\n",
        "\n",
        "- **`.capitalize()`** to return a capitalized version of the string (only first char uppercase)\n",
        "- **`.upper()`** to return an uppercase version of the string (all chars uppercase)\n",
        "- **`.lower()`** to return an lowercase version of the string (all chars lowercase)\n",
        "- **`.count(substring)`** to return the number of occurences of the substring in the string\n",
        "- **`.startswith(substring)`** to determine if the string starts with the substring\n",
        "- **`.endswith(substring)`** to determine if the string ends with the substring\n",
        "- **`.replace(old, new)`** to return a copy of the string with occurences of the \"old\" replaced by \"new\""
      ]
    },
    {
      "cell_type": "code",
      "metadata": {
        "deletable": true,
        "editable": true,
        "id": "zl2OZdv5cz05",
        "colab_type": "code",
        "colab": {}
      },
      "source": [
        "# Assign a string to a variable\n",
        "a_string = 'tHis is a sTriNg'"
      ],
      "execution_count": 0,
      "outputs": []
    },
    {
      "cell_type": "code",
      "metadata": {
        "deletable": true,
        "editable": true,
        "id": "ldKa_ghccz08",
        "colab_type": "code",
        "colab": {}
      },
      "source": [
        "# Return a capitalized version of the string\n",
        "a_string.capitalize()"
      ],
      "execution_count": 0,
      "outputs": []
    },
    {
      "cell_type": "code",
      "metadata": {
        "deletable": true,
        "editable": true,
        "id": "iw2g2d_4cz0-",
        "colab_type": "code",
        "colab": {}
      },
      "source": [
        "# Return an uppercase version of the string\n",
        "a_string.upper()"
      ],
      "execution_count": 0,
      "outputs": []
    },
    {
      "cell_type": "code",
      "metadata": {
        "deletable": true,
        "editable": true,
        "id": "8kOazxiPcz1B",
        "colab_type": "code",
        "colab": {}
      },
      "source": [
        "# Return a lowercase version of the string\n",
        "a_string.lower()"
      ],
      "execution_count": 0,
      "outputs": []
    },
    {
      "cell_type": "code",
      "metadata": {
        "deletable": true,
        "editable": true,
        "id": "PpXwXdR7cz1D",
        "colab_type": "code",
        "colab": {}
      },
      "source": [
        "# Notice that the methods called have not actually modified the string\n",
        "a_string"
      ],
      "execution_count": 0,
      "outputs": []
    },
    {
      "cell_type": "code",
      "metadata": {
        "deletable": true,
        "editable": true,
        "id": "9qp9H9Lycz1F",
        "colab_type": "code",
        "colab": {}
      },
      "source": [
        "# Count number of occurences of a substring in the string\n",
        "a_string.count('i')"
      ],
      "execution_count": 0,
      "outputs": []
    },
    {
      "cell_type": "code",
      "metadata": {
        "deletable": true,
        "editable": true,
        "id": "xwpSvj5Mcz1H",
        "colab_type": "code",
        "colab": {}
      },
      "source": [
        "# Count number of occurences of a substring in the string after a certain position\n",
        "a_string.count('i', 7)"
      ],
      "execution_count": 0,
      "outputs": []
    },
    {
      "cell_type": "code",
      "metadata": {
        "deletable": true,
        "editable": true,
        "id": "KwFFY20kcz1J",
        "colab_type": "code",
        "colab": {}
      },
      "source": [
        "# Count number of occurences of a substring in the string\n",
        "a_string.count('is')"
      ],
      "execution_count": 0,
      "outputs": []
    },
    {
      "cell_type": "code",
      "metadata": {
        "deletable": true,
        "editable": true,
        "id": "2__XW5Qvcz1L",
        "colab_type": "code",
        "colab": {}
      },
      "source": [
        "# Does the string start with 'this'?\n",
        "a_string.startswith('this')"
      ],
      "execution_count": 0,
      "outputs": []
    },
    {
      "cell_type": "code",
      "metadata": {
        "deletable": true,
        "editable": true,
        "id": "WlFlNYsLcz1O",
        "colab_type": "code",
        "colab": {}
      },
      "source": [
        "# Does the lowercase string start with 'this'?\n",
        "a_string.lower().startswith('this')"
      ],
      "execution_count": 0,
      "outputs": []
    },
    {
      "cell_type": "code",
      "metadata": {
        "deletable": true,
        "editable": true,
        "id": "XQtvA9_ucz1R",
        "colab_type": "code",
        "colab": {}
      },
      "source": [
        "# Does the string end with 'Ng'?\n",
        "a_string.endswith('Ng')"
      ],
      "execution_count": 0,
      "outputs": []
    },
    {
      "cell_type": "code",
      "metadata": {
        "deletable": true,
        "editable": true,
        "id": "GWozAhPRcz1T",
        "colab_type": "code",
        "colab": {}
      },
      "source": [
        "# Return a version of the string with a substring replaced with something else\n",
        "a_string.replace('is', 'XYZ')"
      ],
      "execution_count": 0,
      "outputs": []
    },
    {
      "cell_type": "code",
      "metadata": {
        "deletable": true,
        "editable": true,
        "id": "AbHLRW65cz1V",
        "colab_type": "code",
        "colab": {}
      },
      "source": [
        "# Return a version of the string with a substring replaced with something else\n",
        "a_string.replace('i', '!')"
      ],
      "execution_count": 0,
      "outputs": []
    },
    {
      "cell_type": "code",
      "metadata": {
        "deletable": true,
        "editable": true,
        "id": "jyj49RBxcz1b",
        "colab_type": "code",
        "colab": {}
      },
      "source": [
        "# Return a version of the string with the first 2 occurences a substring replaced with something else\n",
        "a_string.replace('i', '!', 2)"
      ],
      "execution_count": 0,
      "outputs": []
    },
    {
      "cell_type": "markdown",
      "metadata": {
        "id": "NQfzz_YNhzrS",
        "colab_type": "text"
      },
      "source": [
        "# 1 Math\n"
      ]
    },
    {
      "cell_type": "markdown",
      "metadata": {
        "id": "Lp_3Hc1zetQk",
        "colab_type": "text"
      },
      "source": [
        "\n",
        "Yay, who doesn't love math? We can obviously do all kinds of calculations in python (actually all calculations which are currently possible by mankind, search for turing completeness if you wanna see a proof of that).\n",
        "### 2.1 basic math\n",
        "The cool thing while programming is that you can focus on *what* you wanna calcuate and not on *how* you're actually doing it (for the most part).\n",
        "Let me show you:"
      ]
    },
    {
      "cell_type": "code",
      "metadata": {
        "id": "YI2Ups2mfMqN",
        "colab_type": "code",
        "colab": {}
      },
      "source": [
        "a = 5\n",
        "b = 16\n",
        "sum = a + b\n",
        "product = a * b\n",
        "print(f\"sum: {sum}, product: {product}\")\n",
        "# try division and subtraction below!\n"
      ],
      "execution_count": 0,
      "outputs": []
    },
    {
      "cell_type": "markdown",
      "metadata": {
        "id": "yOazaxjrXfYN",
        "colab_type": "text"
      },
      "source": [
        "### Math Errors\n",
        "\n",
        "what happens if you divide something by 0? try it out!"
      ]
    },
    {
      "cell_type": "code",
      "metadata": {
        "id": "R3Ojh7i5Xjpa",
        "colab_type": "code",
        "colab": {}
      },
      "source": [
        "test = 5 / 0"
      ],
      "execution_count": 0,
      "outputs": []
    },
    {
      "cell_type": "markdown",
      "metadata": {
        "id": "-7MvWe5UXqQ3",
        "colab_type": "text"
      },
      "source": [
        "okay, so your program crashes. In the real world, you need to make sure that you never accidentally do this (happens more often than you think)!"
      ]
    },
    {
      "cell_type": "markdown",
      "metadata": {
        "id": "j7I27pPVfi3q",
        "colab_type": "text"
      },
      "source": [
        "### 2.2 more complicated math\n",
        "\n",
        "obviously there's also more compliacted math, like the square root or power etc. What happens if we need to calculate that? Do we have to do it ourself? Whenever you think \"that's probably something a lot of people do\", it's pretty likely that it has been made easy. \n",
        "\n",
        "So, while you can't calculate the square root directly, you just need to \"import math\", and you can do it!"
      ]
    },
    {
      "cell_type": "code",
      "metadata": {
        "id": "XKwIu7jwgDpK",
        "colab_type": "code",
        "colab": {}
      },
      "source": [
        "import math # were getting serious now\n",
        "\n",
        "print(f\"root of 16 is {math.sqrt(16)}\")"
      ],
      "execution_count": 0,
      "outputs": []
    },
    {
      "cell_type": "markdown",
      "metadata": {
        "id": "2Xj5TCvygNg9",
        "colab_type": "text"
      },
      "source": [
        "you need to use `math.` to use the things we just imported. You can try using the logarithmic (`math.log()`) or exponential (`math.exp()`) function!\n",
        "\n",
        "Also, did you notice I did not save the result in a variable and put it into our output? I just calculated it right where I wanted to print it. That's possible, too!"
      ]
    },
    {
      "cell_type": "markdown",
      "metadata": {
        "id": "lG1om73OZkSM",
        "colab_type": "text"
      },
      "source": [
        "### Task 3"
      ]
    },
    {
      "cell_type": "markdown",
      "metadata": {
        "id": "aM9kExJFZiEi",
        "colab_type": "text"
      },
      "source": [
        "\n",
        "now calculate $$\\log_{2} (5) * ( 7 + e^{5} ) $$\n",
        "hint: $$e^{x} = exp(x)$$"
      ]
    },
    {
      "cell_type": "code",
      "metadata": {
        "id": "9Koi9na-ZnlI",
        "colab_type": "code",
        "cellView": "form",
        "colab": {}
      },
      "source": [
        "#@title Enter your solution here:\n",
        "solution = \"\" #@param {type:\"raw\"}\n",
        "import math\n",
        "\n",
        "actual = math.log2(5) * (7 + math.exp(5))\n",
        "if actual == solution:\n",
        "  print(\"that's correct!\")\n",
        "else:\n",
        "  print(\"oops, try again!\")\n"
      ],
      "execution_count": 0,
      "outputs": []
    },
    {
      "cell_type": "markdown",
      "metadata": {
        "id": "GpunC-GiW9xM",
        "colab_type": "text"
      },
      "source": [
        "## Wrapping up\n",
        "\n",
        "okay, that's it for today! feel free to get curious what else you might be able to do. You could check how you can style the `print` statement? Or maybe you can print all the numbers between 1 and 100 which can be divided by 3?\n",
        "\n"
      ]
    },
    {
      "cell_type": "markdown",
      "metadata": {
        "id": "s5cNdTejbpuy",
        "colab_type": "text"
      },
      "source": [
        "# Solutions & Hints"
      ]
    },
    {
      "cell_type": "markdown",
      "metadata": {
        "id": "fuOxj6NTvn6j",
        "colab_type": "text"
      },
      "source": [
        "### Task 1 Hint\n",
        "\n",
        "try sorting the array and printing the last three elements.\n",
        "To get the last three, find a smart way using `range(a,b)` and a for loop (we did something similar on day 1 or 2."
      ]
    },
    {
      "cell_type": "markdown",
      "metadata": {
        "id": "6lVHkyETuTp3",
        "colab_type": "text"
      },
      "source": [
        "### Task 1 Solution\n",
        "\n",
        "actually, there are multiple different solutions, I'll show what I came up with (but as long as you have a correct solution, it's perfectly fine!)"
      ]
    },
    {
      "cell_type": "code",
      "metadata": {
        "id": "V9YDGuNJueyB",
        "colab_type": "code",
        "outputId": "3833ddf4-8067-4315-a84f-6273dcc26d19",
        "colab": {
          "base_uri": "https://localhost:8080/",
          "height": 69
        }
      },
      "source": [
        "# first approach: sort and then find three last items\n",
        "arr = [10, 1, 3.6, 7, 5, 2, -3]\n",
        "sort = sorted(arr)\n",
        "\n",
        "for i in range(len(arr) - 3, len(arr)):\n",
        "  print(sort[i])"
      ],
      "execution_count": 0,
      "outputs": [
        {
          "output_type": "stream",
          "text": [
            "5\n",
            "7\n",
            "10\n"
          ],
          "name": "stdout"
        }
      ]
    },
    {
      "cell_type": "markdown",
      "metadata": {
        "id": "oLOlbHi5u3U2",
        "colab_type": "text"
      },
      "source": [
        "some more explanation: remember how the range(a,b) function gives you numbers between a and b-1. We're using that to our advantage to get the last three indices."
      ]
    },
    {
      "cell_type": "code",
      "metadata": {
        "id": "Z-GTyDqhwWlD",
        "colab_type": "code",
        "outputId": "2947db3a-109a-47be-e60a-433cbd6249ad",
        "colab": {
          "base_uri": "https://localhost:8080/",
          "height": 34
        }
      },
      "source": [
        "# spoiler alert: soon this problem could be solved like this, \n",
        "# you'll learn why soon\n",
        "arr = [10, 1, 3.6, 7, 5, 2, -3]\n",
        "print(sorted(arr)[-3:]) # one line doesn't necessarily make it more readable! ;)"
      ],
      "execution_count": 0,
      "outputs": [
        {
          "output_type": "stream",
          "text": [
            "[5, 7, 10]\n"
          ],
          "name": "stdout"
        }
      ]
    },
    {
      "cell_type": "markdown",
      "metadata": {
        "id": "9slHsjZ-awSM",
        "colab_type": "text"
      },
      "source": [
        "### Task 2: Solution"
      ]
    },
    {
      "cell_type": "code",
      "metadata": {
        "id": "7upVa7OOazf5",
        "colab_type": "code",
        "colab": {}
      },
      "source": [
        "math.log2(5) * (7 + math.exp(5))"
      ],
      "execution_count": 0,
      "outputs": []
    }
  ]
}