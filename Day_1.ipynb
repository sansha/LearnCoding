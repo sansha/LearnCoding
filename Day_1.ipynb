{
  "nbformat": 4,
  "nbformat_minor": 0,
  "metadata": {
    "colab": {
      "name": "Day 1.ipynb",
      "provenance": [],
      "collapsed_sections": [],
      "authorship_tag": "ABX9TyMn38Eq6lFTR2PBUsexnS0K",
      "include_colab_link": true
    },
    "kernelspec": {
      "name": "python3",
      "display_name": "Python 3"
    }
  },
  "cells": [
    {
      "cell_type": "markdown",
      "metadata": {
        "id": "view-in-github",
        "colab_type": "text"
      },
      "source": [
        "<a href=\"https://colab.research.google.com/github/sansha/LearnCoding/blob/master/Day_1.ipynb\" target=\"_parent\"><img src=\"https://colab.research.google.com/assets/colab-badge.svg\" alt=\"Open In Colab\"/></a>"
      ]
    },
    {
      "cell_type": "markdown",
      "metadata": {
        "id": "GBT8ED-g8Bgc",
        "colab_type": "text"
      },
      "source": [
        "# Introduction\n",
        "\n",
        "Welcome to this 30 day \"learn to code\" challenge!\n",
        "This challenge is not designed by a professional and is also designed on a day to day basis so let's see how it goes.\n",
        "\n",
        "##Language\n",
        "\n",
        "1. all programming should be done in English. This helps people understand stuff and also while googling for errors\n",
        "2. the programming language we're using will be **Python** as it's quite simple\n",
        "\n",
        "## Learning Outcome\n",
        "\n",
        "My idea is to introduce the basic concepts of the language, but what I really want you to learn is two things:\n",
        "1. divide problems into smaller subproblems until you can solve them. That's what I think is the most useful think about programming in general life\n",
        "2. learn how to use google to solve every problem\n",
        "\n",
        "That's why I'll try to explain only a tiny bit and then show how you can find the rest yourself.\n",
        "\n",
        "a few disclaimers:\n",
        " - it might be a bit difficult in the beginning, but trust me, once you've mastered the basics you'll get creative in what you can do.\n",
        " - from my experience it's sometimes a bit confusing to hear all the new terms, I'll try to minimize that as much as possible but it cannot be avoided at all.\n",
        " -  if you're thinking *hmm I kinda get it but I don't see why we're doing all this* then that's perfectly fine, you normally have this feeling until you know enough to have your own ideas."
      ]
    },
    {
      "cell_type": "markdown",
      "metadata": {
        "id": "hKsqPmEa8mo1",
        "colab_type": "text"
      },
      "source": [
        "# Day 1\n",
        "\n",
        "## Hello World\n",
        "\n",
        "the first thing you normally do is a \"Hello World\" program which prints hello world on the console.\n",
        "Generally, while most of you are probably used to programs where you can click stuff, when you start programming you normally have a text output and (at a later stage) text input. To have a program where you can click something takes some more effort and is mostly not needed."
      ]
    },
    {
      "cell_type": "code",
      "metadata": {
        "id": "WApWTIuj62mp",
        "colab_type": "code",
        "colab": {}
      },
      "source": [
        " # execute this line by clicking on the play button on the left\n",
        " # if there's a warning, do whatever it is telling you to do \n",
        " # (probably open a playground or save to your own drive)\n",
        "print(\"Hello World\")"
      ],
      "execution_count": 0,
      "outputs": []
    },
    {
      "cell_type": "markdown",
      "metadata": {
        "id": "Q-KLBpp99Paa",
        "colab_type": "text"
      },
      "source": [
        "some small explanations:\n",
        " - the lines starting with \"#\" are code comments, these are only for explanation and don't do anything\n",
        " - with print() you can print stuff\n",
        "\n",
        "\n",
        " **Task:** Try printing \"Hello Mom!\" instead!\n",
        "\n",
        " ## Variables\n",
        "\n",
        " obviously we do not want to stop there.\n",
        " So let's introduce the concept of variables. These are basically names you give to things you want to work with. So lets suppose you want to greet many people.\n",
        " First, we're going to create a variable called name and give it a value."
      ]
    },
    {
      "cell_type": "code",
      "metadata": {
        "id": "RQuzGOfb9sc_",
        "colab_type": "code",
        "colab": {}
      },
      "source": [
        "name = \"Mom\""
      ],
      "execution_count": 0,
      "outputs": []
    },
    {
      "cell_type": "markdown",
      "metadata": {
        "id": "DJjj5hFy-F2h",
        "colab_type": "text"
      },
      "source": [
        "if you execute this, nothing seems to happen. However, Python will remember that you have assigned name the value \"Mom\" which you can use at any later point in time"
      ]
    },
    {
      "cell_type": "code",
      "metadata": {
        "id": "7P-EmVce-PWY",
        "colab_type": "code",
        "colab": {}
      },
      "source": [
        "# if you just type name, it will print whatever is stored under this name\n",
        "name"
      ],
      "execution_count": 0,
      "outputs": []
    },
    {
      "cell_type": "markdown",
      "metadata": {
        "id": "Cagn1GHw-V28",
        "colab_type": "text"
      },
      "source": [
        "you can also try to see what's hidden behind this mysterious \"print\" thing\n"
      ]
    },
    {
      "cell_type": "code",
      "metadata": {
        "id": "hFwaOUyV-a6P",
        "colab_type": "code",
        "colab": {}
      },
      "source": [
        "print"
      ],
      "execution_count": 0,
      "outputs": []
    },
    {
      "cell_type": "markdown",
      "metadata": {
        "id": "PrQ1Qk_h-dHv",
        "colab_type": "text"
      },
      "source": [
        "oh okay, good to know, it's apparently a function, whatever that is (we'll come to that later).\n",
        "\n",
        "Okay let's also introduce another variable for the greeting and print greeting and name."
      ]
    },
    {
      "cell_type": "code",
      "metadata": {
        "id": "BOefCVGs-tjj",
        "colab_type": "code",
        "colab": {}
      },
      "source": [
        "greeting = \"Hello\"\n",
        "print(greeting, name)"
      ],
      "execution_count": 0,
      "outputs": []
    },
    {
      "cell_type": "markdown",
      "metadata": {
        "id": "6OTDF-8S-zKU",
        "colab_type": "text"
      },
      "source": [
        "as you can see, you can \"give\" this printing function multiple variables, seperated with a comma. It will then print these things after each other, seperated by a whitespace. You can also use normal words there and mix variables and \"normal words\" (which is called constant because it doesn't change"
      ]
    },
    {
      "cell_type": "code",
      "metadata": {
        "id": "VG1oWPb4_AVZ",
        "colab_type": "code",
        "colab": {}
      },
      "source": [
        "print(greeting, name, \"!\")"
      ],
      "execution_count": 0,
      "outputs": []
    },
    {
      "cell_type": "markdown",
      "metadata": {
        "id": "vr-ksyVF_ZmS",
        "colab_type": "text"
      },
      "source": [
        "okay, now try to greet someone else:"
      ]
    },
    {
      "cell_type": "code",
      "metadata": {
        "id": "zqWRPd04_cRf",
        "colab_type": "code",
        "colab": {}
      },
      "source": [
        "name = \"enter name here\"\n",
        "greeting = \"greeting in your language\"\n",
        "print() # add what you need here"
      ],
      "execution_count": 0,
      "outputs": []
    },
    {
      "cell_type": "markdown",
      "metadata": {
        "id": "kqSsUz60_l_z",
        "colab_type": "text"
      },
      "source": [
        "okay, let's suppose you want to greet multiple people. you could do that by just copy pasting, right? how would this look like?"
      ]
    },
    {
      "cell_type": "markdown",
      "metadata": {
        "id": "pMIOojdpBIK7",
        "colab_type": "text"
      },
      "source": [
        "#### Solution"
      ]
    },
    {
      "cell_type": "code",
      "metadata": {
        "id": "Y7DnxwqW_xgI",
        "colab_type": "code",
        "colab": {}
      },
      "source": [
        "# please greet 3 people here\n",
        "name = \"Mom\"\n",
        "print(greeting, name)\n",
        "name = \"Dad\"\n",
        "print(greeting, name)\n",
        "name = \"Bro\"\n",
        "print(greeting, name)"
      ],
      "execution_count": 0,
      "outputs": []
    },
    {
      "cell_type": "markdown",
      "metadata": {
        "id": "vliuRH_CBdmh",
        "colab_type": "text"
      },
      "source": [
        "## Loops and Lists\n",
        "\n",
        "as a general hint: programmers are always trying to reduce the number of lines and symbols they need to achieve something. So it seems obvious that it is possible to greet those three people more efficiently, right?\n",
        "\n",
        "### Lists\n",
        "\n",
        "so the general idea here is to have a list of the people you want to greet and go through all of them and print the greeting.\n",
        "Therefore, we need lists. In Python, lists are represented using `[]`.\n",
        "So, a list of our family would look like this:\n",
        "```[\"Mom\", \"Dad\", \"Bro\"]```. As you can see, we have `[` and `]` at the beginning and end, and in between all the items seperated by `,`.\n",
        "\n",
        "We're talking about *Syntax* by the way which means *how* we tell the computer what it needs to do. In python, we're using these symbols to tell it that we want to have a list. We can also store a list in a variable.\n",
        "\n"
      ]
    },
    {
      "cell_type": "code",
      "metadata": {
        "id": "P9waED05C3Wn",
        "colab_type": "code",
        "colab": {}
      },
      "source": [
        "#define a names list and add all the elements here, don't forget to press play!\n",
        "names = []"
      ],
      "execution_count": 0,
      "outputs": []
    },
    {
      "cell_type": "markdown",
      "metadata": {
        "id": "kLAWYcFBC_eI",
        "colab_type": "text"
      },
      "source": [
        "#### Solution"
      ]
    },
    {
      "cell_type": "code",
      "metadata": {
        "id": "DysMz32MC--W",
        "colab_type": "code",
        "colab": {}
      },
      "source": [
        "names = [\"Mom\", \"Dad\", \"Bro\"]"
      ],
      "execution_count": 0,
      "outputs": []
    },
    {
      "cell_type": "markdown",
      "metadata": {
        "id": "MT1bl2X1DH5w",
        "colab_type": "text"
      },
      "source": [
        "### For Loop\n",
        "\n",
        "okay, so now we have our three people we would like to greet, so lets now greet all of them at once!\n",
        "So how would you say this in english? maybe something along the lines of\n",
        "\n",
        "\"For every name I in all the names, please show a greeting\"\n",
        "\n",
        "python is not much different:"
      ]
    },
    {
      "cell_type": "code",
      "metadata": {
        "id": "GCIeX4AaDjdM",
        "colab_type": "code",
        "colab": {}
      },
      "source": [
        "for name in names:\n",
        "  # show a greeting\n",
        "  print(greeting, name)"
      ],
      "execution_count": 0,
      "outputs": []
    },
    {
      "cell_type": "markdown",
      "metadata": {
        "id": "6ZCib3JoDoBR",
        "colab_type": "text"
      },
      "source": [
        "if you have an error, go back up and check if you have executed everything above these few lines!\n",
        "\n",
        "### Final Task\n",
        "so as a final task for today, try to also greet your sister (or your dog or...)!\n",
        "I put all the code you need in the field below so you can play around here."
      ]
    },
    {
      "cell_type": "code",
      "metadata": {
        "id": "gM6Zzl0JEl1C",
        "colab_type": "code",
        "colab": {}
      },
      "source": [
        "names = [\"Mom\", \"Dad\", \"Bro\"]\n",
        "for name in names:\n",
        "  # show a greeting\n",
        "  print(greeting, name)"
      ],
      "execution_count": 0,
      "outputs": []
    },
    {
      "cell_type": "markdown",
      "metadata": {
        "id": "kk4d0av4E8Hy",
        "colab_type": "text"
      },
      "source": [
        "### Solution"
      ]
    },
    {
      "cell_type": "code",
      "metadata": {
        "id": "LQsC1LrPE-Tc",
        "colab_type": "code",
        "colab": {}
      },
      "source": [
        "names = [\"Mom\", \"Dad\", \"Bro\", \"Sis\"]\n",
        "for name in names:\n",
        "  # show a greeting\n",
        "  print(greeting, name)"
      ],
      "execution_count": 0,
      "outputs": []
    },
    {
      "cell_type": "markdown",
      "metadata": {
        "id": "DCzq-tCtEAF3",
        "colab_type": "text"
      },
      "source": [
        "### Wrap up\n",
        "\n",
        "Okay, so that's it for today, I hope you enjoyed it! feel free to give me feedback, I don't really know if that was difficult or super easy (I hope it's just right) :)\n",
        "See you tomorrow!"
      ]
    }
  ]
}